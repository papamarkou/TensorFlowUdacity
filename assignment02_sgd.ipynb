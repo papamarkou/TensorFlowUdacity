{
 "cells": [
  {
   "cell_type": "markdown",
   "metadata": {},
   "source": [
    "### Package loading, environment variables, generic functions and data loading"
   ]
  },
  {
   "cell_type": "code",
   "execution_count": 1,
   "metadata": {},
   "outputs": [],
   "source": [
    "## Load packages\n",
    "\n",
    "import matplotlib.pyplot as plt\n",
    "import numpy as np\n",
    "import os\n",
    "from six.moves import cPickle as pickle\n",
    "from sklearn.linear_model import LogisticRegression\n",
    "from sklearn.linear_model import SGDClassifier\n",
    "import string\n",
    "import time\n",
    "import tensorflow as tf"
   ]
  },
  {
   "cell_type": "code",
   "execution_count": 2,
   "metadata": {},
   "outputs": [],
   "source": [
    "## Define environment variables\n",
    "\n",
    "HOMEDIR = os.environ[\"HOME\"]\n",
    "\n",
    "BASEDIR = os.path.join(HOMEDIR, \"workspace\", \"jupyterlab\", \"TensorFlowUdacity\")\n",
    "\n",
    "DATADIR = os.path.join(BASEDIR, \"data\")\n",
    "SANITIZEDDATADIR = os.path.join(DATADIR, \"notmnist\", \"sanitized\")\n",
    "\n",
    "SANITIZEDDATAFILE = os.path.join(SANITIZEDDATADIR, 'notmnist.pickle')"
   ]
  },
  {
   "cell_type": "code",
   "execution_count": 3,
   "metadata": {},
   "outputs": [
    {
     "name": "stdout",
     "output_type": "stream",
     "text": [
      "Number of images in train set: 151349\n",
      "Number of images in validation set: 8882\n",
      "Number of images in test set: 151349\n"
     ]
    }
   ],
   "source": [
    "## Load pickled sanitized train, validation and test datasets\n",
    "\n",
    "with open(SANITIZEDDATAFILE, 'rb') as f:\n",
    "    sane_datasets = pickle.load(f)\n",
    "    train_dataset = sane_datasets['train_dataset']\n",
    "    train_labels = sane_datasets['train_labels']\n",
    "    ntrain = sane_datasets['ntrain']\n",
    "    validation_dataset = sane_datasets['validation_dataset']\n",
    "    validation_labels = sane_datasets['validation_labels']\n",
    "    nvalidation = sane_datasets['nvalidation']\n",
    "    test_dataset = sane_datasets['test_dataset']\n",
    "    test_labels = sane_datasets['test_labels']\n",
    "    ntest = sane_datasets['ntest']\n",
    "    del sane_datasets\n",
    "    \n",
    "print('Number of images in train set:', ntrain)\n",
    "print('Number of images in validation set:', nvalidation)\n",
    "print('Number of images in test set:', ntrain)"
   ]
  },
  {
   "cell_type": "code",
   "execution_count": 4,
   "metadata": {},
   "outputs": [],
   "source": [
    "## Set image properties and number of classes\n",
    "\n",
    "image_size = 28 # Pixel width and height\n",
    "npixels = image_size**2 # Total number of pixels in an image\n",
    "\n",
    "nclasses = 10 # Number of classes (letters)"
   ]
  },
  {
   "cell_type": "code",
   "execution_count": 5,
   "metadata": {},
   "outputs": [],
   "source": [
    "## Function for reformatting data in format compatible with scikit-learn and TensorFlow\n",
    "\n",
    "def reformat(dataset, labels, npixels, nclasses):\n",
    "    formatted_dataset = dataset.reshape(-1, npixels).astype(np.float32)\n",
    "    formatted_labels = (np.arange(nclasses) == labels[:, None]).astype(np.float32) # Vectorize each label (one-hot encoding)\n",
    "    return formatted_dataset, formatted_labels"
   ]
  },
  {
   "cell_type": "code",
   "execution_count": 6,
   "metadata": {},
   "outputs": [
    {
     "name": "stdout",
     "output_type": "stream",
     "text": [
      "Dimension of training set: (151349, 784)\n",
      "Dimension of validation set: (8882, 784)\n",
      "Dimension of test set: (9006, 784)\n",
      "Dimension of train labels: (151349, 10)\n",
      "Dimension of validation labels: (8882, 10)\n",
      "Dimension of test labels: (9006, 10)\n"
     ]
    }
   ],
   "source": [
    "## Reformat data in format compatible with scikit-learn and TensorFlow\n",
    "\n",
    "train_dataset, onehot_train_labels = reformat(train_dataset, train_labels, npixels, nclasses)\n",
    "validation_dataset, onehot_validation_labels = reformat(validation_dataset, validation_labels, npixels, nclasses)\n",
    "test_dataset, onehot_test_labels = reformat(test_dataset, test_labels, npixels, nclasses)\n",
    "\n",
    "print('Dimension of training set:', train_dataset.shape)\n",
    "print('Dimension of validation set:', validation_dataset.shape)\n",
    "print('Dimension of test set:', test_dataset.shape)\n",
    "\n",
    "print('Dimension of train labels:', onehot_train_labels.shape)\n",
    "print('Dimension of validation labels:', onehot_validation_labels.shape)\n",
    "print('Dimension of test labels:', onehot_test_labels.shape)"
   ]
  },
  {
   "cell_type": "code",
   "execution_count": 7,
   "metadata": {},
   "outputs": [],
   "source": [
    "## Compute absolute frequencies per class in train, validation and test datasets\n",
    "\n",
    "train_bincount = np.bincount(train_labels)\n",
    "validation_bincount = np.bincount(validation_labels)\n",
    "test_bincount = np.bincount(test_labels)"
   ]
  },
  {
   "cell_type": "code",
   "execution_count": 8,
   "metadata": {},
   "outputs": [
    {
     "data": {
      "image/png": "[encoded data removed]",
      "text/plain": [
       "<Figure size 432x288 with 1 Axes>"
      ]
     },
     "metadata": {},
     "output_type": "display_data"
    }
   ],
   "source": [
    "## Plot relative frequency of each class (letter) in each dataset\n",
    "\n",
    "plt.gca().set_prop_cycle('color', ['green', 'blue', 'red'])\n",
    "\n",
    "plt.plot(np.arange(nclasses), np.round(100*np.bincount(train_labels)/ntrain, 2), marker='o', markersize=5)\n",
    "plt.plot(np.arange(nclasses), np.round(100*np.bincount(validation_labels)/nvalidation, 2), marker='o', markersize=5)\n",
    "plt.plot(np.arange(nclasses), np.round(100*np.bincount(test_labels)/ntest, 2), marker='o', markersize=5)\n",
    "\n",
    "plt.ylim([0, 12])\n",
    "\n",
    "plt.xlabel('Class (letter)')\n",
    "plt.ylabel('Relative frequency (%)')\n",
    "plt.title('Frequency of each class in each dataset')\n",
    "\n",
    "plt.xticks(np.arange(nclasses), string.ascii_uppercase[:nclasses])\n",
    "\n",
    "plt.legend(('Train set', 'Validation set', 'Test set'), loc='lower left')\n",
    "\n",
    "plt.show()"
   ]
  },
  {
   "cell_type": "code",
   "execution_count": 9,
   "metadata": {},
   "outputs": [],
   "source": [
    "## Function for counting elements per class\n",
    "\n",
    "def element_count_per_class(labels, nclasses):\n",
    "    counts = np.zeros(nclasses, dtype=np.int64)\n",
    "    for label in np.nditer(labels):\n",
    "        counts[int(label)] += 1\n",
    "                \n",
    "    return counts"
   ]
  },
  {
   "cell_type": "code",
   "execution_count": 10,
   "metadata": {},
   "outputs": [],
   "source": [
    "## Function for counting correct predictions per class\n",
    "\n",
    "def prediction_count_per_class(labels, predictions, nclasses):\n",
    "    counts = np.zeros(nclasses, dtype=np.int64)\n",
    "    for label, prediction in np.nditer([labels, predictions]):\n",
    "        if label == prediction:\n",
    "            counts[int(label)] += 1\n",
    "                \n",
    "    return counts"
   ]
  },
  {
   "cell_type": "code",
   "execution_count": 11,
   "metadata": {},
   "outputs": [],
   "source": [
    "## Function for plotting prediction accuracy per class across different data sets\n",
    "\n",
    "def plot_prediction_accuracy_per_class(scores, nclasses, color, legend, xticks, marker='o', markersize=5, show=True):\n",
    "    plt.gca().set_prop_cycle('color', color)\n",
    "\n",
    "    for score in scores:\n",
    "        plt.plot(np.arange(nclasses), score, marker=marker, markersize=markersize)\n",
    "\n",
    "    plt.ylim((0, 100))\n",
    "\n",
    "    plt.xlabel('Class')\n",
    "    plt.ylabel('Prediction accuracy (%)')\n",
    "    plt.title('Prediction accuracy per class')\n",
    "\n",
    "    plt.xticks(np.arange(nclasses), xticks)\n",
    "\n",
    "    plt.legend(legend, loc='lower left')\n",
    "\n",
    "    if show:\n",
    "        plt.show()"
   ]
  },
  {
   "cell_type": "markdown",
   "metadata": {},
   "source": [
    "### Logistic regression using scikit-learn"
   ]
  },
  {
   "cell_type": "code",
   "execution_count": 12,
   "metadata": {},
   "outputs": [
    {
     "name": "stdout",
     "output_type": "stream",
     "text": [
      "Logistic regression with L-BFGS optimizer using scikit-learn\n",
      "Time ellapsed: 62.944475 seconds\n",
      "Prediction accuracy: 89.000%\n"
     ]
    }
   ],
   "source": [
    "## Fit logistic regression with L-BFGS optimizer using scikit-learn\n",
    "\n",
    "logreg = LogisticRegression(C=1e5, multi_class='multinomial', solver='lbfgs')\n",
    "\n",
    "start_time = time.process_time()\n",
    "logreg.fit(train_dataset, train_labels)\n",
    "end_time = time.process_time()\n",
    "sklearn_logreg_lbfgs_time = end_time-start_time\n",
    "\n",
    "sklearn_logreg_lbfgs_score = logreg.score(test_dataset, test_labels)\n",
    "\n",
    "print('Logistic regression with L-BFGS optimizer using scikit-learn')\n",
    "print('Time ellapsed: %f seconds' % sklearn_logreg_lbfgs_time)\n",
    "print('Prediction accuracy: %.3f%%' % round(100*sklearn_logreg_lbfgs_score))"
   ]
  },
  {
   "cell_type": "code",
   "execution_count": 13,
   "metadata": {},
   "outputs": [
    {
     "data": {
      "text/plain": [
       "array([12911, 11434, 14709, 11679, 12827, 14155, 14300,  8511,  7229,\n",
       "       13929])"
      ]
     },
     "execution_count": 13,
     "metadata": {},
     "output_type": "execute_result"
    }
   ],
   "source": [
    "## Count correct predictions per class in train set for logistic regression with L-BGFS optimizer in scikit-learn\n",
    "\n",
    "train_sklearn_logreg_lbfgs_pred_count_per_class = prediction_count_per_class(\n",
    "    train_labels, logreg.predict(train_dataset), nclasses\n",
    ")\n",
    "\n",
    "train_sklearn_logreg_lbfgs_pred_count_per_class"
   ]
  },
  {
   "cell_type": "code",
   "execution_count": 14,
   "metadata": {},
   "outputs": [
    {
     "data": {
      "text/plain": [
       "array([81.43, 77.69, 85.9 , 81.18, 77.83, 86.13, 81.7 , 75.95, 65.28,\n",
       "       84.08])"
      ]
     },
     "execution_count": 14,
     "metadata": {},
     "output_type": "execute_result"
    }
   ],
   "source": [
    "## Compute prediction accuracy per class in train set for logistic regression with L-BGFS optimizer in scikit-learn\n",
    "\n",
    "train_sklearn_logreg_lbfgs_pred_score_per_class = np.round(\n",
    "    100*train_sklearn_logreg_lbfgs_pred_count_per_class/train_bincount, 2\n",
    ")\n",
    "\n",
    "train_sklearn_logreg_lbfgs_pred_score_per_class"
   ]
  },
  {
   "cell_type": "code",
   "execution_count": 15,
   "metadata": {},
   "outputs": [
    {
     "data": {
      "text/plain": [
       "array([854, 772, 905, 824, 847, 896, 853, 608, 526, 894])"
      ]
     },
     "execution_count": 15,
     "metadata": {},
     "output_type": "execute_result"
    }
   ],
   "source": [
    "## Count correct predictions per class in test set for logistic regression with L-BGFS optimizer in scikit-learn\n",
    "\n",
    "test_sklearn_logreg_lbfgs_pred_count_per_class = prediction_count_per_class(\n",
    "    test_labels, logreg.predict(test_dataset), nclasses\n",
    ")\n",
    "\n",
    "test_sklearn_logreg_lbfgs_pred_count_per_class"
   ]
  },
  {
   "cell_type": "code",
   "execution_count": 16,
   "metadata": {},
   "outputs": [
    {
     "data": {
      "text/plain": [
       "array([88.87, 86.55, 93.69, 91.76, 86.69, 92.95, 86.86, 86.12, 76.56,\n",
       "       91.88])"
      ]
     },
     "execution_count": 16,
     "metadata": {},
     "output_type": "execute_result"
    }
   ],
   "source": [
    "## Compute prediction accuracy per class in train set for logistic regression with L-BGFS optimizer in scikit-learn\n",
    "\n",
    "test_sklearn_logreg_lbfgs_pred_score_per_class = np.round(\n",
    "    100*test_sklearn_logreg_lbfgs_pred_count_per_class/test_bincount, 2\n",
    ")\n",
    "\n",
    "test_sklearn_logreg_lbfgs_pred_score_per_class"
   ]
  },
  {
   "cell_type": "code",
   "execution_count": 17,
   "metadata": {},
   "outputs": [
    {
     "data": {
      "image/png": "[encoded data removed]",
      "text/plain": [
       "<Figure size 432x288 with 1 Axes>"
      ]
     },
     "metadata": {},
     "output_type": "display_data"
    }
   ],
   "source": [
    "## Plot prediction accuracy per class in train and test set for logistic regression with L-BGFS optimizer in scikit-learn\n",
    "\n",
    "plot_prediction_accuracy_per_class(\n",
    "    [train_sklearn_logreg_lbfgs_pred_score_per_class, test_sklearn_logreg_lbfgs_pred_score_per_class], nclasses, \n",
    "    ('green', 'red'), ('Train set', 'Test set'), string.ascii_uppercase[:nclasses]\n",
    ")"
   ]
  },
  {
   "cell_type": "code",
   "execution_count": 18,
   "metadata": {},
   "outputs": [
    {
     "name": "stdout",
     "output_type": "stream",
     "text": [
      "Logistic regression with SGD optimizer using scikit-learn\n",
      "Time ellapsed: 62.892016 seconds\n",
      "Prediction accuracy: 88.000%\n"
     ]
    }
   ],
   "source": [
    "## Fit logistic regression with SGD optimizer using scikit-learn\n",
    "\n",
    "logreg = SGDClassifier(loss='log', penalty='l2', max_iter=10)\n",
    "# logreg = SGDClassifier(loss='log', penalty='l2', tol=1e5)\n",
    "\n",
    "start_time = time.process_time()\n",
    "logreg.fit(train_dataset, train_labels)\n",
    "end_time = time.process_time()\n",
    "sklearn_logreg_sgd_time = end_time-start_time\n",
    "\n",
    "sklearn_logreg_sgd_score = logreg.score(test_dataset, test_labels)\n",
    "\n",
    "print('Logistic regression with SGD optimizer using scikit-learn')\n",
    "print('Time ellapsed: %f seconds' % sklearn_logreg_sgd_time)\n",
    "print('Prediction accuracy: %.3f%%' % round(100*sklearn_logreg_sgd_score))"
   ]
  },
  {
   "cell_type": "code",
   "execution_count": 19,
   "metadata": {},
   "outputs": [
    {
     "data": {
      "text/plain": [
       "array([12724, 10883, 14402, 11726, 12748, 13921, 13981,  8106,  6688,\n",
       "       14010])"
      ]
     },
     "execution_count": 19,
     "metadata": {},
     "output_type": "execute_result"
    }
   ],
   "source": [
    "## Count correct predictions per class in train set for logistic regression with SGD optimizer in scikit-learn\n",
    "\n",
    "train_sklearn_logreg_sgd_pred_count_per_class = prediction_count_per_class(\n",
    "    train_labels, logreg.predict(train_dataset), nclasses\n",
    ")\n",
    "\n",
    "train_sklearn_logreg_sgd_pred_count_per_class"
   ]
  },
  {
   "cell_type": "code",
   "execution_count": 20,
   "metadata": {},
   "outputs": [
    {
     "data": {
      "text/plain": [
       "array([80.25, 73.95, 84.1 , 81.5 , 77.35, 84.7 , 79.88, 72.34, 60.39,\n",
       "       84.57])"
      ]
     },
     "execution_count": 20,
     "metadata": {},
     "output_type": "execute_result"
    }
   ],
   "source": [
    "## Compute prediction accuracy per class in train set for logistic regression with SGD optimizer in scikit-learn\n",
    "\n",
    "train_sklearn_logreg_sgd_pred_score_per_class = np.round(\n",
    "    100*train_sklearn_logreg_sgd_pred_count_per_class/train_bincount, 2\n",
    ")\n",
    "\n",
    "train_sklearn_logreg_sgd_pred_score_per_class"
   ]
  },
  {
   "cell_type": "code",
   "execution_count": 21,
   "metadata": {},
   "outputs": [
    {
     "data": {
      "text/plain": [
       "array([845, 744, 896, 831, 836, 891, 852, 586, 503, 897])"
      ]
     },
     "execution_count": 21,
     "metadata": {},
     "output_type": "execute_result"
    }
   ],
   "source": [
    "## Count correct predictions per class in test set for logistic regression with SGD optimizer in scikit-learn\n",
    "\n",
    "test_sklearn_logreg_sgd_pred_count_per_class = prediction_count_per_class(\n",
    "    test_labels, logreg.predict(test_dataset), nclasses\n",
    ")\n",
    "\n",
    "test_sklearn_logreg_sgd_pred_count_per_class"
   ]
  },
  {
   "cell_type": "code",
   "execution_count": 22,
   "metadata": {},
   "outputs": [
    {
     "data": {
      "text/plain": [
       "array([87.93, 83.41, 92.75, 92.54, 85.57, 92.43, 86.76, 83.  , 73.22,\n",
       "       92.19])"
      ]
     },
     "execution_count": 22,
     "metadata": {},
     "output_type": "execute_result"
    }
   ],
   "source": [
    "## Compute prediction accuracy per class in train set for logistic regression with SGD optimizer in scikit-learn\n",
    "\n",
    "test_sklearn_logreg_sgd_pred_score_per_class = np.round(100*test_sklearn_logreg_sgd_pred_count_per_class/test_bincount, 2)\n",
    "\n",
    "test_sklearn_logreg_sgd_pred_score_per_class"
   ]
  },
  {
   "cell_type": "code",
   "execution_count": 23,
   "metadata": {},
   "outputs": [
    {
     "data": {
      "image/png": "[encoded data removed]",
      "text/plain": [
       "<Figure size 432x288 with 1 Axes>"
      ]
     },
     "metadata": {},
     "output_type": "display_data"
    }
   ],
   "source": [
    "## Plot prediction accuracy per class in train and test set for logistic regression with SGD optimizer in scikit-learn\n",
    "\n",
    "plot_prediction_accuracy_per_class(\n",
    "    [train_sklearn_logreg_sgd_pred_score_per_class, test_sklearn_logreg_sgd_pred_score_per_class], nclasses, \n",
    "    ('green', 'red'), ('Train set', 'Test set'), string.ascii_uppercase[:nclasses]\n",
    ")"
   ]
  },
  {
   "cell_type": "markdown",
   "metadata": {},
   "source": [
    "### Generic functions for graph building and for session running in tensorflow"
   ]
  },
  {
   "cell_type": "code",
   "execution_count": 24,
   "metadata": {},
   "outputs": [],
   "source": [
    "## Function for building a logistic regression model in tensorflow in the form of a graph\n",
    "\n",
    "def build_logreg_model(nw, nclasses, initw, initb, board=()):\n",
    "    graph = tf.get_default_graph()\n",
    "    \n",
    "    with graph.as_default():\n",
    "        with tf.name_scope('data'):\n",
    "            X = tf.placeholder(tf.float32, [None, nw]) # mnist data image of shape 28*28=784\n",
    "            y = tf.placeholder(tf.float32, [None, nclasses]) # 0-9 digits recognition => 10 classes\n",
    "            \n",
    "        with tf.name_scope('parameters'):\n",
    "            W = tf.Variable(initw)\n",
    "            b = tf.Variable(initb)\n",
    "\n",
    "        with tf.name_scope('outlayer'):\n",
    "            outlayer = tf.matmul(X, W)+b\n",
    "\n",
    "        if 'histogram' in board:\n",
    "            with tf.name_scope('summaries') as summaries_scope:\n",
    "                tf.summary.histogram('weights', W)\n",
    "                tf.summary.histogram('bias', b)\n",
    "            \n",
    "    build = {'graph': graph, 'X': X, 'y': y, 'outlayer': outlayer}\n",
    "    \n",
    "    if 'histogram' in board:\n",
    "        build['summaries_scope'] = summaries_scope\n",
    "    \n",
    "    return build"
   ]
  },
  {
   "cell_type": "code",
   "execution_count": 25,
   "metadata": {},
   "outputs": [],
   "source": [
    "## Function for completing build of a graph in tensorflow given inputted model ('build' input argument)\n",
    "\n",
    "def build_classifier_graph(build, optimizer, activation='softmax', monitor=(), board=()):\n",
    "    monitor_predictions = ('accuracy', 'accuracy_per_class')\n",
    "    has_monitor_predictions = any(p in monitor_predictions for p in monitor)\n",
    "    \n",
    "    with build['graph'].as_default():        \n",
    "        with tf.name_scope('loss'):            \n",
    "            if activation == 'softmax_with_logits':\n",
    "                loss = tf.reduce_mean(tf.nn.softmax_cross_entropy_with_logits_v2(labels=build['y'], logits=build['outlayer']))\n",
    "            elif activation == 'sigmoid_with_logits':\n",
    "                loss = tf.reduce_mean(tf.nn.sigmoid_cross_entropy_with_logits_v2(labels=build['y'], logits=build['outlayer']))\n",
    "            elif activation == 'mse':\n",
    "                loss = tf.losses.mean_squared_error(labels=build['y'], predictions=build['outlayer'])\n",
    "            else:\n",
    "                raise ValueError('Wrong value passed to activation input argument')\n",
    "                \n",
    "        with tf.name_scope('optimization'):\n",
    "            optimization = optimizer.minimize(loss)\n",
    "\n",
    "        if (has_monitor_predictions or ('accuracy' in board)):\n",
    "            with tf.name_scope('predictions'):\n",
    "                yargmax = tf.argmax(build['y'], 1)\n",
    "                predictions = tf.argmax(tf.nn.softmax(build['outlayer']), 1)\n",
    "                \n",
    "                if ('accuracy' in board):\n",
    "                    accuracy = tf.reduce_mean(tf.cast(tf.equal(predictions, yargmax), tf.float32))\n",
    "\n",
    "        if board:\n",
    "            summaries_scope = build['summaries_scope'] if ('summaries_scope' in build) else tf.name_scope('summaries')\n",
    "            \n",
    "            with tf.name_scope(summaries_scope):\n",
    "                if 'loss' in board:\n",
    "                    tf.summary.scalar('loss', loss)\n",
    "                if 'accuracy' in board:\n",
    "                    tf.summary.scalar('accuracy', accuracy)\n",
    "\n",
    "                summaries = tf.summary.merge_all()\n",
    "\n",
    "    build['loss'] = loss\n",
    "    build['optimization'] = optimization\n",
    "    \n",
    "    if has_monitor_predictions:\n",
    "        build['yargmax'] = yargmax\n",
    "        build['predictions'] = predictions\n",
    "\n",
    "    if board:\n",
    "        build['summaries'] = summaries"
   ]
  },
  {
   "cell_type": "code",
   "execution_count": 26,
   "metadata": {},
   "outputs": [],
   "source": [
    "## Function for running a session to train a model in tensorflow\n",
    "\n",
    "def train_classifier(\n",
    "    session, build, feed, ndata, batchsize, nclasses, nepochs,\n",
    "    saver=None, restore=False, save=False, monitor=(), board=(), multibatchsize=100, permute=True,\n",
    "    sessiondir=os.path.join('log', 'session'), boarddir=os.path.join('log', 'board'), verbose=False\n",
    "):\n",
    "    if restore:\n",
    "        saver.restore(session, sessiondir)\n",
    "    \n",
    "    nbatches = ndata//batchsize\n",
    "    nsteps = nepochs*nbatches\n",
    "    epochsize = nbatches*batchsize\n",
    "\n",
    "    monitor_predictions = ('accuracy', 'accuracy_per_class')\n",
    "    has_monitor_predictions = any(p in monitor_predictions for p in monitor)\n",
    "    \n",
    "    if multibatchsize is None:\n",
    "        multibatchsize = batchsize\n",
    "        m = 1\n",
    "    else:\n",
    "        if (multibatchsize % batchsize) != 0:\n",
    "            raise ValueError('multibatchsize must be a multiple of batchsize')\n",
    "        else:\n",
    "            m = multibatchsize//batchsize\n",
    "      \n",
    "    nmultibatches = (nepochs*epochsize)//multibatchsize\n",
    "\n",
    "    fetches = []\n",
    "    \n",
    "    if monitor:\n",
    "        if 'loss' in monitor:\n",
    "            fetches.append(build['loss'])\n",
    "            loss_within_multipbatch = np.empty((m,), dtype=np.float32)\n",
    "            loss = np.empty((nmultibatches,), dtype=np.float32)\n",
    "        \n",
    "        if has_monitor_predictions:\n",
    "            fetches.append(build['yargmax'])\n",
    "            fetches.append(build['predictions'])\n",
    "            \n",
    "            yargmax = np.empty((multibatchsize,), dtype=np.float32)\n",
    "            predictions = np.empty((multibatchsize,), dtype=np.float32)\n",
    "            \n",
    "            if 'accuracy' in monitor:\n",
    "                accuracy = np.empty((nmultibatches,), dtype=np.float32)\n",
    "            if 'accuracy_per_class' in monitor:\n",
    "                nlabels_per_class = np.empty((nmultibatches, nclasses), dtype=np.int64)\n",
    "                npredictions_per_class = np.empty((nmultibatches, nclasses), dtype=np.int64)\n",
    "                accuracy_per_class = np.empty((nmultibatches, nclasses), dtype=np.float32)\n",
    "\n",
    "    if board:\n",
    "        fetches.append(build['summaries'])\n",
    "        writer = tf.summary.FileWriter(boarddir, build['graph'])\n",
    "\n",
    "    fetches.append(build['optimization'])\n",
    "    \n",
    "    fetches.reverse()\n",
    "    \n",
    "    if verbose:\n",
    "        msg_template = \"Multibach {:\"+str(len(str(nmultibatches)))+\"} of {:\"+str(len(str(nmultibatches)))\n",
    "        msg_template += \"} with ending batch {:\"+str(len(str(nbatches)))+\"} of {:\"+str(len(str(nbatches)))\n",
    "        msg_template += \"} in epoch {:\"+str(len(str(nepochs)))+\"} of {:\"+str(len(str(nepochs)))+\"}\"\n",
    "        \n",
    "        if monitor:\n",
    "            if 'loss' in monitor:\n",
    "                msg_template += \"\\n  Loss: {:.3E}\"\n",
    "                \n",
    "            if has_monitor_predictions:\n",
    "                if 'accuracy' in monitor:\n",
    "                    msg_template += \"\\n  Accuracy: {:.3f}\"\n",
    "                if 'accuracy_per_class' in monitor:\n",
    "                    msg_template += \"\\n  Accuracy per class: \"+\", \".join([\"{:.3f}\" for _ in range(nclasses)])\n",
    "\n",
    "    step = 0\n",
    "    if monitor or verbose:\n",
    "        i = 0 # i refers to the i-th multibach for storing monitored variables\n",
    "        if monitor:\n",
    "            j = 0 # j refers to the j-th batch within a multibach\n",
    "\n",
    "    for epoch in range(nepochs):\n",
    "        if permute:\n",
    "            permutation = np.random.permutation(ndata)\n",
    "            \n",
    "        for batch in range(nbatches):\n",
    "            batch_start = batch*batchsize\n",
    "            batch_end = batch_start+batchsize\n",
    "\n",
    "            if permute:\n",
    "                batch_feed = {\n",
    "                    build['X']: feed[build['X']][permutation[batch_start:batch_end], :],\n",
    "                    build['y']: feed[build['y']][permutation[batch_start:batch_end]]\n",
    "                }\n",
    "            else:\n",
    "                batch_feed = {\n",
    "                    build['X']: feed[build['X']][batch_start:batch_end, :],\n",
    "                    build['y']: feed[build['y']][batch_start:batch_end]\n",
    "                }\n",
    "                \n",
    "            values = list(session.run(fetches=fetches, feed_dict=batch_feed))\n",
    "\n",
    "            if monitor:\n",
    "                j_batch_start = j*batchsize\n",
    "                j_batch_end = j_batch_start+batchsize\n",
    "                \n",
    "                if 'loss' in monitor:\n",
    "                    loss_within_multipbatch[j] = values.pop()\n",
    "                \n",
    "                if has_monitor_predictions:\n",
    "                    yargmax[j_batch_start:j_batch_end] = values.pop()\n",
    "                    predictions[j_batch_start:j_batch_end] = values.pop()\n",
    "            \n",
    "            if monitor or verbose:\n",
    "                if ((step+1) % m) != 0:\n",
    "                    if monitor:\n",
    "                        j += 1\n",
    "                else:\n",
    "                    if monitor:\n",
    "                        if 'loss' in monitor:\n",
    "                            loss[i] = np.mean(loss_within_multipbatch)\n",
    "                            \n",
    "                        if has_monitor_predictions:\n",
    "                            if 'accuracy' in monitor:\n",
    "                                accuracy[i] = np.count_nonzero(yargmax == predictions)/multibatchsize\n",
    "                            if 'accuracy_per_class' in monitor:\n",
    "                                nlabels_per_class[i, :] = element_count_per_class(yargmax, nclasses)\n",
    "                                npredictions_per_class[i, :] = prediction_count_per_class(yargmax, predictions, nclasses)\n",
    "                                accuracy_per_class[i, :] = np.divide(npredictions_per_class[i, :], nlabels_per_class[i, :])\n",
    "                    \n",
    "                        j = 0\n",
    "\n",
    "                    if verbose:\n",
    "                        msg_args = [i+1, nmultibatches, batch+1, nbatches, epoch+1, nepochs]\n",
    "                \n",
    "                        if monitor:\n",
    "                            if 'loss' in monitor:\n",
    "                                msg_args.append(loss[i])\n",
    "                                \n",
    "                            if has_monitor_predictions:\n",
    "                                if 'accuracy' in monitor:\n",
    "                                    msg_args.append(accuracy[i])\n",
    "                                if 'accuracy_per_class' in monitor:\n",
    "                                    msg_args.extend(accuracy_per_class[i, :])\n",
    "\n",
    "                        print(msg_template.format(*msg_args))\n",
    "\n",
    "                    i += 1\n",
    "\n",
    "            if board:\n",
    "                writer.add_summary(values.pop(), step)\n",
    "                \n",
    "            step += 1\n",
    "\n",
    "    output = {}\n",
    "    \n",
    "    if monitor:\n",
    "        if 'loss' in monitor:\n",
    "            output['loss'] = loss\n",
    "            \n",
    "        if has_monitor_predictions:\n",
    "            if 'accuracy' in monitor:\n",
    "                output['accuracy'] = accuracy\n",
    "            if 'accuracy_per_class' in monitor:\n",
    "                output['nlabels_per_class'] = nlabels_per_class\n",
    "                output['npredictions_per_class'] = npredictions_per_class\n",
    "                output['accuracy_per_class'] = accuracy_per_class\n",
    "\n",
    "    if save:\n",
    "        saver.save(session, sessiondir)\n",
    "    \n",
    "    return output"
   ]
  },
  {
   "cell_type": "code",
   "execution_count": 27,
   "metadata": {},
   "outputs": [],
   "source": [
    "## Function for running a session to evaluate a model on a test set in tensorflow\n",
    "\n",
    "def evaluate_classifier(\n",
    "    session, saver, build, feed, batchsize, nclasses,\n",
    "    monitor=('accuracy'), sessiondir=os.path.join('log', 'session'), verbose=False\n",
    "):\n",
    "    saver.restore(session, sessiondir)\n",
    "    \n",
    "    monitor_predictions = ('accuracy', 'accuracy_per_class')\n",
    "    has_monitor_predictions = any(p in monitor_predictions for p in monitor)\n",
    "    \n",
    "    fetches = []\n",
    "\n",
    "    if monitor:\n",
    "        if 'loss' in monitor:\n",
    "            fetches.append(build['loss'])\n",
    "            \n",
    "        if has_monitor_predictions:\n",
    "            fetches.append(build['yargmax'])\n",
    "            fetches.append(build['predictions'])\n",
    "\n",
    "    fetches.append(build['optimization'])\n",
    "    \n",
    "    fetches.reverse()\n",
    "\n",
    "    values = list(session.run(fetches=fetches, feed_dict=feed))\n",
    "                        \n",
    "    if monitor:\n",
    "        if 'loss' in monitor:\n",
    "            loss = values.pop()\n",
    "            \n",
    "        if has_monitor_predictions:\n",
    "            yargmax = values.pop()\n",
    "            predictions = values.pop()\n",
    "\n",
    "            if 'accuracy' in monitor:\n",
    "                accuracy = np.count_nonzero(yargmax == predictions)/batchsize\n",
    "            if 'accuracy_per_class' in monitor:\n",
    "                nlabels_per_class = element_count_per_class(yargmax, nclasses)\n",
    "                npredictions_per_class = prediction_count_per_class(yargmax, predictions, nclasses)\n",
    "                accuracy_per_class = np.divide(npredictions_per_class, nlabels_per_class)\n",
    "\n",
    "    if verbose:\n",
    "        msg_template = \"Evaluating model...\"\n",
    "        msg_args = []\n",
    "        \n",
    "        if monitor:\n",
    "            if 'loss' in monitor:\n",
    "                msg_template += \"\\n  Loss: {:.3E}\"\n",
    "                msg_args.append(loss)\n",
    "\n",
    "            if has_monitor_predictions:\n",
    "                if 'accuracy' in monitor:\n",
    "                    msg_template += \"\\n  Accuracy: {:.3f}\"\n",
    "                    msg_args.append(accuracy)\n",
    "                if 'accuracy_per_class' in monitor:\n",
    "                    msg_template += \"\\n  Accuracy per class: \"+\", \".join([\"{:.3f}\" for _ in range(nclasses)])\n",
    "                    msg_args.extend(accuracy_per_class)\n",
    "                \n",
    "        msg_template += \"\\nModel evaluation completed\"\n",
    "\n",
    "        print(msg_template.format(*msg_args))\n",
    "     \n",
    "    output = {}\n",
    "    \n",
    "    if monitor:\n",
    "        if 'loss' in monitor:\n",
    "            output['loss'] = loss\n",
    "            \n",
    "        if has_monitor_predictions:\n",
    "            if 'accuracy' in monitor:\n",
    "                output['accuracy'] = accuracy\n",
    "            if 'accuracy_per_class' in monitor:\n",
    "                output['nlabels_per_class'] = nlabels_per_class\n",
    "                output['npredictions_per_class'] = npredictions_per_class\n",
    "                output['accuracy_per_class'] = accuracy_per_class\n",
    "\n",
    "    return output"
   ]
  },
  {
   "cell_type": "code",
   "execution_count": 28,
   "metadata": {},
   "outputs": [],
   "source": [
    "## Function for plotting loss returned as output['loss'] by train()\n",
    "\n",
    "def plot_loss(loss, marker=None, markersize=5, color='C0', show=True):    \n",
    "    plt.plot(np.arange(loss.size)+1, loss, marker=marker, markersize=5, color=color)\n",
    "\n",
    "    plt.xlabel('Step')\n",
    "    plt.ylabel('Loss')\n",
    "\n",
    "    if show:\n",
    "        plt.show()"
   ]
  },
  {
   "cell_type": "code",
   "execution_count": 29,
   "metadata": {},
   "outputs": [],
   "source": [
    "## Function for plotting accuracy returned as output['accuracy'] by train()\n",
    "\n",
    "def plot_accuracy(accuracy, marker=None, markersize=5, color='C0', show=True):    \n",
    "    plt.plot(np.arange(accuracy.size)+1, accuracy, marker=marker, markersize=5, color=color)\n",
    "\n",
    "    plt.ylim([0, 1])\n",
    "    \n",
    "    plt.xlabel('Step')\n",
    "    plt.ylabel('Accuracy')\n",
    "\n",
    "    if show:\n",
    "        plt.show()"
   ]
  },
  {
   "cell_type": "markdown",
   "metadata": {},
   "source": [
    "### Logistic regression with gradient descent using tensorflow"
   ]
  },
  {
   "cell_type": "markdown",
   "metadata": {},
   "source": [
    "Recall that the data have been standardized before feeding them to the model. Data standardization can speed up the convergence of the gradient descent optimizer by orders of magnitude. The batchsize is set to be equal to the size of the train set (by setting `batchsize = train_dataset.shape[0]` below), so the optimizer uses all the data at each iteration, hence the optimization is not stochastic.\n",
    "\n",
    "Notice below that the batchsize is set to be equal to the size of the train set (`ndata = train_dataset.shape[0]` and `batchsize = ndata`). Since the batchsize concides with an epoch, every iteration uses the whole train set, so the optimizer is not stochastic. 1000 epochs are run (`nepochs=1000`), while results are printed and stored for each multibatch consisting of 10 batches-epochs (`multibatchsize=10*ndata`).\n",
    "\n",
    "Multibatches are utilized for reducing the amount of monitoring information printed and stored during training. In the example below, results are printed for 100 multibatches, each containing 10 epochs, instead of printing results for all 1000 epochs.\n",
    "\n",
    "For every multibatch of 10 epochs, the loss, prediction accuracy and prediction accuracy per class are reported. Since the number of samples is not the same for all classes, the accuracy is a weighted average of the per-class accuracies in each multibatch."
   ]
  },
  {
   "cell_type": "code",
   "execution_count": 30,
   "metadata": {},
   "outputs": [],
   "source": [
    "## Reset default graph\n",
    "\n",
    "tf.reset_default_graph()"
   ]
  },
  {
   "cell_type": "code",
   "execution_count": 31,
   "metadata": {},
   "outputs": [],
   "source": [
    "## Build graph for logistic regression on train set with gradient descent using tensorflow\n",
    "\n",
    "# Initialize logistic regression parameters\n",
    "initw = tf.truncated_normal([npixels, nclasses])\n",
    "initb = tf.zeros([nclasses])\n",
    "\n",
    "# Specify what will be monitored and what will be stored in tensorboard\n",
    "monitor = ('loss', 'accuracy', 'accuracy_per_class') # To select a single summary, say 'accuracy', set monitor = ('accuracy',)\n",
    "board = ('loss', 'accuracy', 'histogram')\n",
    "\n",
    "# Build graph\n",
    "build = build_logreg_model(npixels, nclasses, initw, initb, board=board)\n",
    "build_classifier_graph(build, tf.train.GradientDescentOptimizer(0.1), activation='softmax_with_logits', monitor=monitor, board=board)"
   ]
  },
  {
   "cell_type": "markdown",
   "metadata": {},
   "source": [
    "To check the graph version, run the command `build['graph'].version`."
   ]
  },
  {
   "cell_type": "code",
   "execution_count": 32,
   "metadata": {},
   "outputs": [
    {
     "name": "stdout",
     "output_type": "stream",
     "text": [
      "Multibach   1 of 100 with ending batch 1 of 1 in epoch   10 of 1000\n",
      "  Loss: 1.343E+01\n",
      "  Accuracy: 0.146\n",
      "  Accuracy per class: 0.380, 0.266, 0.222, 0.078, 0.027, 0.078, 0.045, 0.136, 0.191, 0.060\n",
      "Multibach   2 of 100 with ending batch 1 of 1 in epoch   20 of 1000\n",
      "  Loss: 1.031E+01\n",
      "  Accuracy: 0.204\n",
      "  Accuracy per class: 0.424, 0.307, 0.312, 0.136, 0.053, 0.198, 0.081, 0.153, 0.244, 0.146\n",
      "Multibach   3 of 100 with ending batch 1 of 1 in epoch   30 of 1000\n",
      "  Loss: 8.411E+00\n",
      "  Accuracy: 0.260\n",
      "  Accuracy per class: 0.454, 0.342, 0.355, 0.197, 0.095, 0.297, 0.159, 0.170, 0.274, 0.246\n",
      "Multibach   4 of 100 with ending batch 1 of 1 in epoch   40 of 1000\n",
      "  Loss: 7.164E+00\n",
      "  Accuracy: 0.315\n",
      "  Accuracy per class: 0.481, 0.374, 0.384, 0.259, 0.157, 0.364, 0.248, 0.191, 0.294, 0.354\n",
      "Multibach   5 of 100 with ending batch 1 of 1 in epoch   50 of 1000\n",
      "  Loss: 6.327E+00\n",
      "  Accuracy: 0.363\n",
      "  Accuracy per class: 0.504, 0.401, 0.414, 0.324, 0.222, 0.413, 0.323, 0.216, 0.314, 0.437\n",
      "Multibach   6 of 100 with ending batch 1 of 1 in epoch   60 of 1000\n",
      "  Loss: 5.741E+00\n",
      "  Accuracy: 0.402\n",
      "  Accuracy per class: 0.527, 0.422, 0.443, 0.381, 0.277, 0.450, 0.377, 0.246, 0.331, 0.493\n",
      "Multibach   7 of 100 with ending batch 1 of 1 in epoch   70 of 1000\n",
      "  Loss: 5.312E+00\n",
      "  Accuracy: 0.434\n",
      "  Accuracy per class: 0.545, 0.440, 0.474, 0.429, 0.323, 0.480, 0.418, 0.276, 0.346, 0.530\n",
      "Multibach   8 of 100 with ending batch 1 of 1 in epoch   80 of 1000\n",
      "  Loss: 4.985E+00\n",
      "  Accuracy: 0.460\n",
      "  Accuracy per class: 0.560, 0.457, 0.503, 0.467, 0.357, 0.507, 0.450, 0.302, 0.358, 0.555\n",
      "Multibach   9 of 100 with ending batch 1 of 1 in epoch   90 of 1000\n",
      "  Loss: 4.728E+00\n",
      "  Accuracy: 0.481\n",
      "  Accuracy per class: 0.572, 0.472, 0.530, 0.496, 0.385, 0.529, 0.475, 0.326, 0.370, 0.574\n",
      "Multibach  10 of 100 with ending batch 1 of 1 in epoch  100 of 1000\n",
      "  Loss: 4.521E+00\n",
      "  Accuracy: 0.500\n",
      "  Accuracy per class: 0.583, 0.486, 0.551, 0.520, 0.410, 0.548, 0.496, 0.346, 0.382, 0.591\n",
      "Multibach  11 of 100 with ending batch 1 of 1 in epoch  110 of 1000\n",
      "  Loss: 4.350E+00\n",
      "  Accuracy: 0.516\n",
      "  Accuracy per class: 0.593, 0.497, 0.569, 0.540, 0.432, 0.566, 0.513, 0.365, 0.391, 0.604\n",
      "Multibach  12 of 100 with ending batch 1 of 1 in epoch  120 of 1000\n",
      "  Loss: 4.207E+00\n",
      "  Accuracy: 0.530\n",
      "  Accuracy per class: 0.600, 0.508, 0.585, 0.555, 0.452, 0.583, 0.529, 0.381, 0.401, 0.615\n",
      "Multibach  13 of 100 with ending batch 1 of 1 in epoch  130 of 1000\n",
      "  Loss: 4.085E+00\n",
      "  Accuracy: 0.542\n",
      "  Accuracy per class: 0.606, 0.518, 0.598, 0.568, 0.468, 0.598, 0.542, 0.396, 0.411, 0.623\n",
      "Multibach  14 of 100 with ending batch 1 of 1 in epoch  140 of 1000\n",
      "  Loss: 3.980E+00\n",
      "  Accuracy: 0.552\n",
      "  Accuracy per class: 0.613, 0.526, 0.610, 0.579, 0.482, 0.610, 0.554, 0.409, 0.419, 0.632\n",
      "Multibach  15 of 100 with ending batch 1 of 1 in epoch  150 of 1000\n",
      "  Loss: 3.888E+00\n",
      "  Accuracy: 0.562\n",
      "  Accuracy per class: 0.619, 0.534, 0.620, 0.589, 0.494, 0.621, 0.564, 0.421, 0.427, 0.638\n",
      "Multibach  16 of 100 with ending batch 1 of 1 in epoch  160 of 1000\n",
      "  Loss: 3.807E+00\n",
      "  Accuracy: 0.570\n",
      "  Accuracy per class: 0.624, 0.541, 0.631, 0.599, 0.506, 0.631, 0.572, 0.430, 0.433, 0.644\n",
      "Multibach  17 of 100 with ending batch 1 of 1 in epoch  170 of 1000\n",
      "  Loss: 3.734E+00\n",
      "  Accuracy: 0.577\n",
      "  Accuracy per class: 0.628, 0.547, 0.638, 0.606, 0.516, 0.640, 0.580, 0.440, 0.439, 0.650\n",
      "Multibach  18 of 100 with ending batch 1 of 1 in epoch  180 of 1000\n",
      "  Loss: 3.668E+00\n",
      "  Accuracy: 0.584\n",
      "  Accuracy per class: 0.633, 0.554, 0.645, 0.614, 0.525, 0.649, 0.587, 0.449, 0.445, 0.655\n",
      "Multibach  19 of 100 with ending batch 1 of 1 in epoch  190 of 1000\n",
      "  Loss: 3.609E+00\n",
      "  Accuracy: 0.591\n",
      "  Accuracy per class: 0.637, 0.560, 0.652, 0.621, 0.534, 0.655, 0.593, 0.457, 0.450, 0.660\n",
      "Multibach  20 of 100 with ending batch 1 of 1 in epoch  200 of 1000\n",
      "  Loss: 3.555E+00\n",
      "  Accuracy: 0.596\n",
      "  Accuracy per class: 0.641, 0.564, 0.657, 0.626, 0.542, 0.661, 0.599, 0.466, 0.455, 0.664\n",
      "Multibach  21 of 100 with ending batch 1 of 1 in epoch  210 of 1000\n",
      "  Loss: 3.505E+00\n",
      "  Accuracy: 0.602\n",
      "  Accuracy per class: 0.644, 0.569, 0.662, 0.631, 0.549, 0.667, 0.605, 0.473, 0.459, 0.668\n",
      "Multibach  22 of 100 with ending batch 1 of 1 in epoch  220 of 1000\n",
      "  Loss: 3.459E+00\n",
      "  Accuracy: 0.606\n",
      "  Accuracy per class: 0.647, 0.574, 0.667, 0.635, 0.554, 0.673, 0.610, 0.478, 0.461, 0.672\n",
      "Multibach  23 of 100 with ending batch 1 of 1 in epoch  230 of 1000\n",
      "  Loss: 3.416E+00\n",
      "  Accuracy: 0.611\n",
      "  Accuracy per class: 0.650, 0.578, 0.672, 0.640, 0.560, 0.679, 0.614, 0.485, 0.463, 0.676\n",
      "Multibach  24 of 100 with ending batch 1 of 1 in epoch  240 of 1000\n",
      "  Loss: 3.376E+00\n",
      "  Accuracy: 0.615\n",
      "  Accuracy per class: 0.654, 0.582, 0.676, 0.645, 0.565, 0.682, 0.619, 0.491, 0.465, 0.678\n",
      "Multibach  25 of 100 with ending batch 1 of 1 in epoch  250 of 1000\n",
      "  Loss: 3.339E+00\n",
      "  Accuracy: 0.618\n",
      "  Accuracy per class: 0.657, 0.587, 0.680, 0.648, 0.569, 0.686, 0.623, 0.495, 0.467, 0.681\n",
      "Multibach  26 of 100 with ending batch 1 of 1 in epoch  260 of 1000\n",
      "  Loss: 3.304E+00\n",
      "  Accuracy: 0.622\n",
      "  Accuracy per class: 0.660, 0.590, 0.684, 0.651, 0.573, 0.690, 0.627, 0.499, 0.468, 0.684\n",
      "Multibach  27 of 100 with ending batch 1 of 1 in epoch  270 of 1000\n",
      "  Loss: 3.270E+00\n",
      "  Accuracy: 0.625\n",
      "  Accuracy per class: 0.662, 0.593, 0.687, 0.654, 0.577, 0.694, 0.631, 0.503, 0.470, 0.686\n",
      "Multibach  28 of 100 with ending batch 1 of 1 in epoch  280 of 1000\n",
      "  Loss: 3.239E+00\n",
      "  Accuracy: 0.628\n",
      "  Accuracy per class: 0.665, 0.596, 0.690, 0.657, 0.582, 0.696, 0.635, 0.507, 0.471, 0.688\n",
      "Multibach  29 of 100 with ending batch 1 of 1 in epoch  290 of 1000\n",
      "  Loss: 3.209E+00\n",
      "  Accuracy: 0.630\n",
      "  Accuracy per class: 0.667, 0.598, 0.694, 0.658, 0.586, 0.698, 0.638, 0.511, 0.472, 0.689\n",
      "Multibach  30 of 100 with ending batch 1 of 1 in epoch  300 of 1000\n",
      "  Loss: 3.181E+00\n",
      "  Accuracy: 0.633\n",
      "  Accuracy per class: 0.670, 0.601, 0.696, 0.661, 0.589, 0.701, 0.641, 0.515, 0.474, 0.692\n",
      "Multibach  31 of 100 with ending batch 1 of 1 in epoch  310 of 1000\n",
      "  Loss: 3.154E+00\n",
      "  Accuracy: 0.635\n",
      "  Accuracy per class: 0.671, 0.604, 0.699, 0.663, 0.591, 0.704, 0.644, 0.519, 0.475, 0.693\n",
      "Multibach  32 of 100 with ending batch 1 of 1 in epoch  320 of 1000\n",
      "  Loss: 3.129E+00\n",
      "  Accuracy: 0.638\n",
      "  Accuracy per class: 0.673, 0.607, 0.701, 0.665, 0.594, 0.707, 0.647, 0.522, 0.476, 0.695\n",
      "Multibach  33 of 100 with ending batch 1 of 1 in epoch  330 of 1000\n",
      "  Loss: 3.104E+00\n",
      "  Accuracy: 0.640\n",
      "  Accuracy per class: 0.675, 0.610, 0.703, 0.668, 0.597, 0.709, 0.650, 0.525, 0.477, 0.697\n",
      "Multibach  34 of 100 with ending batch 1 of 1 in epoch  340 of 1000\n",
      "  Loss: 3.080E+00\n",
      "  Accuracy: 0.643\n",
      "  Accuracy per class: 0.678, 0.613, 0.705, 0.670, 0.599, 0.711, 0.652, 0.528, 0.478, 0.700\n",
      "Multibach  35 of 100 with ending batch 1 of 1 in epoch  350 of 1000\n",
      "  Loss: 3.058E+00\n",
      "  Accuracy: 0.645\n",
      "  Accuracy per class: 0.680, 0.615, 0.707, 0.672, 0.602, 0.713, 0.655, 0.532, 0.479, 0.701\n",
      "Multibach  36 of 100 with ending batch 1 of 1 in epoch  360 of 1000\n",
      "  Loss: 3.036E+00\n",
      "  Accuracy: 0.647\n",
      "  Accuracy per class: 0.681, 0.617, 0.709, 0.674, 0.604, 0.714, 0.658, 0.535, 0.480, 0.702\n",
      "Multibach  37 of 100 with ending batch 1 of 1 in epoch  370 of 1000\n",
      "  Loss: 3.015E+00\n",
      "  Accuracy: 0.648\n",
      "  Accuracy per class: 0.683, 0.619, 0.710, 0.676, 0.606, 0.716, 0.660, 0.539, 0.481, 0.703\n",
      "Multibach  38 of 100 with ending batch 1 of 1 in epoch  380 of 1000\n",
      "  Loss: 2.995E+00\n",
      "  Accuracy: 0.650\n",
      "  Accuracy per class: 0.684, 0.620, 0.712, 0.677, 0.608, 0.718, 0.662, 0.541, 0.482, 0.704\n",
      "Multibach  39 of 100 with ending batch 1 of 1 in epoch  390 of 1000\n",
      "  Loss: 2.975E+00\n",
      "  Accuracy: 0.652\n",
      "  Accuracy per class: 0.685, 0.622, 0.713, 0.678, 0.610, 0.720, 0.664, 0.544, 0.483, 0.705\n",
      "Multibach  40 of 100 with ending batch 1 of 1 in epoch  400 of 1000\n",
      "  Loss: 2.956E+00\n",
      "  Accuracy: 0.653\n",
      "  Accuracy per class: 0.686, 0.623, 0.715, 0.679, 0.611, 0.721, 0.666, 0.547, 0.484, 0.706\n",
      "Multibach  41 of 100 with ending batch 1 of 1 in epoch  410 of 1000\n",
      "  Loss: 2.938E+00\n",
      "  Accuracy: 0.655\n",
      "  Accuracy per class: 0.688, 0.625, 0.716, 0.680, 0.613, 0.723, 0.668, 0.549, 0.485, 0.707\n",
      "Multibach  42 of 100 with ending batch 1 of 1 in epoch  420 of 1000\n",
      "  Loss: 2.920E+00\n",
      "  Accuracy: 0.656\n",
      "  Accuracy per class: 0.689, 0.627, 0.718, 0.682, 0.615, 0.724, 0.670, 0.551, 0.485, 0.708\n",
      "Multibach  43 of 100 with ending batch 1 of 1 in epoch  430 of 1000\n",
      "  Loss: 2.902E+00\n",
      "  Accuracy: 0.657\n",
      "  Accuracy per class: 0.691, 0.628, 0.719, 0.683, 0.617, 0.725, 0.672, 0.553, 0.486, 0.709\n",
      "Multibach  44 of 100 with ending batch 1 of 1 in epoch  440 of 1000\n",
      "  Loss: 2.886E+00\n",
      "  Accuracy: 0.659\n",
      "  Accuracy per class: 0.692, 0.629, 0.721, 0.684, 0.619, 0.726, 0.673, 0.555, 0.487, 0.710\n",
      "Multibach  45 of 100 with ending batch 1 of 1 in epoch  450 of 1000\n",
      "  Loss: 2.869E+00\n",
      "  Accuracy: 0.660\n",
      "  Accuracy per class: 0.692, 0.631, 0.722, 0.685, 0.620, 0.727, 0.675, 0.557, 0.488, 0.711\n",
      "Multibach  46 of 100 with ending batch 1 of 1 in epoch  460 of 1000\n",
      "  Loss: 2.853E+00\n",
      "  Accuracy: 0.661\n",
      "  Accuracy per class: 0.693, 0.632, 0.723, 0.686, 0.622, 0.728, 0.676, 0.558, 0.489, 0.711\n",
      "Multibach  47 of 100 with ending batch 1 of 1 in epoch  470 of 1000\n",
      "  Loss: 2.838E+00\n",
      "  Accuracy: 0.662\n",
      "  Accuracy per class: 0.694, 0.633, 0.723, 0.687, 0.623, 0.728, 0.678, 0.559, 0.489, 0.711\n",
      "Multibach  48 of 100 with ending batch 1 of 1 in epoch  480 of 1000\n",
      "  Loss: 2.823E+00\n",
      "  Accuracy: 0.663\n",
      "  Accuracy per class: 0.695, 0.634, 0.724, 0.688, 0.624, 0.729, 0.679, 0.561, 0.490, 0.712\n",
      "Multibach  49 of 100 with ending batch 1 of 1 in epoch  490 of 1000\n",
      "  Loss: 2.808E+00\n",
      "  Accuracy: 0.664\n",
      "  Accuracy per class: 0.696, 0.636, 0.725, 0.689, 0.625, 0.730, 0.680, 0.562, 0.490, 0.713\n",
      "Multibach  50 of 100 with ending batch 1 of 1 in epoch  500 of 1000\n",
      "  Loss: 2.794E+00\n",
      "  Accuracy: 0.665\n",
      "  Accuracy per class: 0.698, 0.637, 0.726, 0.690, 0.626, 0.731, 0.682, 0.564, 0.491, 0.714\n",
      "Multibach  51 of 100 with ending batch 1 of 1 in epoch  510 of 1000\n",
      "  Loss: 2.779E+00\n",
      "  Accuracy: 0.666\n",
      "  Accuracy per class: 0.699, 0.637, 0.727, 0.690, 0.627, 0.732, 0.683, 0.565, 0.492, 0.715\n",
      "Multibach  52 of 100 with ending batch 1 of 1 in epoch  520 of 1000\n",
      "  Loss: 2.766E+00\n",
      "  Accuracy: 0.667\n",
      "  Accuracy per class: 0.700, 0.638, 0.728, 0.691, 0.628, 0.732, 0.684, 0.567, 0.492, 0.716\n",
      "Multibach  53 of 100 with ending batch 1 of 1 in epoch  530 of 1000\n",
      "  Loss: 2.752E+00\n",
      "  Accuracy: 0.668\n",
      "  Accuracy per class: 0.701, 0.639, 0.729, 0.691, 0.630, 0.733, 0.685, 0.568, 0.493, 0.716\n",
      "Multibach  54 of 100 with ending batch 1 of 1 in epoch  540 of 1000\n",
      "  Loss: 2.739E+00\n",
      "  Accuracy: 0.669\n",
      "  Accuracy per class: 0.702, 0.640, 0.730, 0.692, 0.631, 0.733, 0.686, 0.569, 0.494, 0.717\n",
      "Multibach  55 of 100 with ending batch 1 of 1 in epoch  550 of 1000\n",
      "  Loss: 2.726E+00\n",
      "  Accuracy: 0.669\n",
      "  Accuracy per class: 0.702, 0.641, 0.731, 0.693, 0.632, 0.733, 0.687, 0.570, 0.495, 0.717\n",
      "Multibach  56 of 100 with ending batch 1 of 1 in epoch  560 of 1000\n",
      "  Loss: 2.714E+00\n",
      "  Accuracy: 0.670\n",
      "  Accuracy per class: 0.704, 0.642, 0.732, 0.694, 0.633, 0.734, 0.688, 0.571, 0.496, 0.718\n",
      "Multibach  57 of 100 with ending batch 1 of 1 in epoch  570 of 1000\n",
      "  Loss: 2.701E+00\n",
      "  Accuracy: 0.671\n",
      "  Accuracy per class: 0.705, 0.643, 0.733, 0.695, 0.634, 0.735, 0.689, 0.573, 0.496, 0.719\n",
      "Multibach  58 of 100 with ending batch 1 of 1 in epoch  580 of 1000\n",
      "  Loss: 2.689E+00\n",
      "  Accuracy: 0.672\n",
      "  Accuracy per class: 0.705, 0.644, 0.733, 0.695, 0.635, 0.735, 0.690, 0.574, 0.496, 0.720\n",
      "Multibach  59 of 100 with ending batch 1 of 1 in epoch  590 of 1000\n",
      "  Loss: 2.677E+00\n",
      "  Accuracy: 0.673\n",
      "  Accuracy per class: 0.705, 0.645, 0.734, 0.696, 0.636, 0.736, 0.691, 0.575, 0.496, 0.721\n",
      "Multibach  60 of 100 with ending batch 1 of 1 in epoch  600 of 1000\n",
      "  Loss: 2.666E+00\n",
      "  Accuracy: 0.673\n",
      "  Accuracy per class: 0.706, 0.646, 0.734, 0.697, 0.636, 0.737, 0.692, 0.577, 0.497, 0.721\n",
      "Multibach  61 of 100 with ending batch 1 of 1 in epoch  610 of 1000\n",
      "  Loss: 2.654E+00\n",
      "  Accuracy: 0.674\n",
      "  Accuracy per class: 0.707, 0.647, 0.735, 0.698, 0.637, 0.737, 0.693, 0.577, 0.497, 0.722\n",
      "Multibach  62 of 100 with ending batch 1 of 1 in epoch  620 of 1000\n",
      "  Loss: 2.643E+00\n",
      "  Accuracy: 0.675\n",
      "  Accuracy per class: 0.707, 0.648, 0.736, 0.698, 0.638, 0.738, 0.694, 0.578, 0.497, 0.723\n",
      "Multibach  63 of 100 with ending batch 1 of 1 in epoch  630 of 1000\n",
      "  Loss: 2.632E+00\n",
      "  Accuracy: 0.676\n",
      "  Accuracy per class: 0.708, 0.649, 0.736, 0.699, 0.638, 0.738, 0.694, 0.579, 0.498, 0.723\n",
      "Multibach  64 of 100 with ending batch 1 of 1 in epoch  640 of 1000\n",
      "  Loss: 2.621E+00\n",
      "  Accuracy: 0.676\n",
      "  Accuracy per class: 0.709, 0.650, 0.737, 0.700, 0.639, 0.739, 0.695, 0.580, 0.499, 0.724\n",
      "Multibach  65 of 100 with ending batch 1 of 1 in epoch  650 of 1000\n",
      "  Loss: 2.611E+00\n",
      "  Accuracy: 0.677\n",
      "  Accuracy per class: 0.709, 0.651, 0.738, 0.701, 0.640, 0.739, 0.696, 0.581, 0.499, 0.724\n",
      "Multibach  66 of 100 with ending batch 1 of 1 in epoch  660 of 1000\n",
      "  Loss: 2.600E+00\n",
      "  Accuracy: 0.678\n",
      "  Accuracy per class: 0.710, 0.651, 0.739, 0.702, 0.641, 0.740, 0.697, 0.582, 0.500, 0.725\n",
      "Multibach  67 of 100 with ending batch 1 of 1 in epoch  670 of 1000\n",
      "  Loss: 2.590E+00\n",
      "  Accuracy: 0.678\n",
      "  Accuracy per class: 0.711, 0.652, 0.739, 0.702, 0.642, 0.740, 0.698, 0.583, 0.501, 0.725\n",
      "Multibach  68 of 100 with ending batch 1 of 1 in epoch  680 of 1000\n",
      "  Loss: 2.580E+00\n",
      "  Accuracy: 0.679\n",
      "  Accuracy per class: 0.711, 0.652, 0.739, 0.703, 0.643, 0.741, 0.699, 0.584, 0.501, 0.726\n",
      "Multibach  69 of 100 with ending batch 1 of 1 in epoch  690 of 1000\n",
      "  Loss: 2.570E+00\n",
      "  Accuracy: 0.679\n",
      "  Accuracy per class: 0.712, 0.653, 0.740, 0.703, 0.643, 0.741, 0.700, 0.585, 0.501, 0.726\n",
      "Multibach  70 of 100 with ending batch 1 of 1 in epoch  700 of 1000\n",
      "  Loss: 2.560E+00\n",
      "  Accuracy: 0.680\n",
      "  Accuracy per class: 0.713, 0.653, 0.741, 0.703, 0.643, 0.742, 0.701, 0.586, 0.501, 0.726\n",
      "Multibach  71 of 100 with ending batch 1 of 1 in epoch  710 of 1000\n",
      "  Loss: 2.550E+00\n",
      "  Accuracy: 0.680\n",
      "  Accuracy per class: 0.713, 0.654, 0.741, 0.704, 0.644, 0.742, 0.701, 0.586, 0.502, 0.727\n",
      "Multibach  72 of 100 with ending batch 1 of 1 in epoch  720 of 1000\n",
      "  Loss: 2.541E+00\n",
      "  Accuracy: 0.681\n",
      "  Accuracy per class: 0.714, 0.655, 0.742, 0.704, 0.645, 0.742, 0.702, 0.587, 0.502, 0.727\n",
      "Multibach  73 of 100 with ending batch 1 of 1 in epoch  730 of 1000\n",
      "  Loss: 2.532E+00\n",
      "  Accuracy: 0.681\n",
      "  Accuracy per class: 0.714, 0.655, 0.742, 0.704, 0.645, 0.742, 0.702, 0.588, 0.503, 0.727\n",
      "Multibach  74 of 100 with ending batch 1 of 1 in epoch  740 of 1000\n",
      "  Loss: 2.522E+00\n",
      "  Accuracy: 0.682\n",
      "  Accuracy per class: 0.715, 0.656, 0.743, 0.705, 0.646, 0.743, 0.703, 0.588, 0.503, 0.728\n",
      "Multibach  75 of 100 with ending batch 1 of 1 in epoch  750 of 1000\n",
      "  Loss: 2.513E+00\n",
      "  Accuracy: 0.683\n",
      "  Accuracy per class: 0.716, 0.657, 0.743, 0.705, 0.647, 0.743, 0.703, 0.589, 0.504, 0.728\n",
      "Multibach  76 of 100 with ending batch 1 of 1 in epoch  760 of 1000\n",
      "  Loss: 2.504E+00\n",
      "  Accuracy: 0.683\n",
      "  Accuracy per class: 0.716, 0.657, 0.744, 0.706, 0.647, 0.744, 0.703, 0.589, 0.504, 0.729\n",
      "Multibach  77 of 100 with ending batch 1 of 1 in epoch  770 of 1000\n",
      "  Loss: 2.496E+00\n",
      "  Accuracy: 0.684\n",
      "  Accuracy per class: 0.717, 0.658, 0.745, 0.706, 0.647, 0.745, 0.704, 0.590, 0.505, 0.729\n",
      "Multibach  78 of 100 with ending batch 1 of 1 in epoch  780 of 1000\n",
      "  Loss: 2.487E+00\n",
      "  Accuracy: 0.684\n",
      "  Accuracy per class: 0.717, 0.658, 0.745, 0.706, 0.648, 0.745, 0.705, 0.590, 0.505, 0.730\n",
      "Multibach  79 of 100 with ending batch 1 of 1 in epoch  790 of 1000\n",
      "  Loss: 2.478E+00\n",
      "  Accuracy: 0.684\n",
      "  Accuracy per class: 0.717, 0.658, 0.746, 0.706, 0.648, 0.746, 0.705, 0.591, 0.506, 0.730\n",
      "Multibach  80 of 100 with ending batch 1 of 1 in epoch  800 of 1000\n",
      "  Loss: 2.470E+00\n",
      "  Accuracy: 0.685\n",
      "  Accuracy per class: 0.718, 0.659, 0.746, 0.706, 0.648, 0.746, 0.706, 0.592, 0.506, 0.731\n",
      "Multibach  81 of 100 with ending batch 1 of 1 in epoch  810 of 1000\n",
      "  Loss: 2.462E+00\n",
      "  Accuracy: 0.685\n",
      "  Accuracy per class: 0.718, 0.659, 0.746, 0.706, 0.649, 0.746, 0.706, 0.592, 0.506, 0.731\n",
      "Multibach  82 of 100 with ending batch 1 of 1 in epoch  820 of 1000\n",
      "  Loss: 2.453E+00\n",
      "  Accuracy: 0.686\n",
      "  Accuracy per class: 0.718, 0.659, 0.747, 0.706, 0.649, 0.747, 0.706, 0.593, 0.507, 0.732\n",
      "Multibach  83 of 100 with ending batch 1 of 1 in epoch  830 of 1000\n",
      "  Loss: 2.445E+00\n",
      "  Accuracy: 0.686\n",
      "  Accuracy per class: 0.719, 0.660, 0.747, 0.707, 0.649, 0.747, 0.707, 0.594, 0.507, 0.732\n",
      "Multibach  84 of 100 with ending batch 1 of 1 in epoch  840 of 1000\n",
      "  Loss: 2.437E+00\n",
      "  Accuracy: 0.686\n",
      "  Accuracy per class: 0.719, 0.660, 0.747, 0.707, 0.650, 0.747, 0.707, 0.595, 0.508, 0.732\n",
      "Multibach  85 of 100 with ending batch 1 of 1 in epoch  850 of 1000\n",
      "  Loss: 2.429E+00\n",
      "  Accuracy: 0.687\n",
      "  Accuracy per class: 0.720, 0.660, 0.748, 0.707, 0.650, 0.747, 0.707, 0.596, 0.508, 0.733\n",
      "Multibach  86 of 100 with ending batch 1 of 1 in epoch  860 of 1000\n",
      "  Loss: 2.422E+00\n",
      "  Accuracy: 0.687\n",
      "  Accuracy per class: 0.720, 0.661, 0.749, 0.708, 0.650, 0.748, 0.707, 0.597, 0.509, 0.733\n",
      "Multibach  87 of 100 with ending batch 1 of 1 in epoch  870 of 1000\n",
      "  Loss: 2.414E+00\n",
      "  Accuracy: 0.688\n",
      "  Accuracy per class: 0.721, 0.661, 0.749, 0.708, 0.651, 0.748, 0.708, 0.597, 0.509, 0.733\n",
      "Multibach  88 of 100 with ending batch 1 of 1 in epoch  880 of 1000\n",
      "  Loss: 2.406E+00\n",
      "  Accuracy: 0.688\n",
      "  Accuracy per class: 0.721, 0.661, 0.750, 0.708, 0.651, 0.748, 0.708, 0.597, 0.510, 0.734\n",
      "Multibach  89 of 100 with ending batch 1 of 1 in epoch  890 of 1000\n",
      "  Loss: 2.399E+00\n",
      "  Accuracy: 0.688\n",
      "  Accuracy per class: 0.721, 0.661, 0.750, 0.708, 0.652, 0.749, 0.709, 0.598, 0.510, 0.734\n",
      "Multibach  90 of 100 with ending batch 1 of 1 in epoch  900 of 1000\n",
      "  Loss: 2.392E+00\n",
      "  Accuracy: 0.689\n",
      "  Accuracy per class: 0.722, 0.662, 0.750, 0.709, 0.652, 0.749, 0.709, 0.598, 0.510, 0.735\n",
      "Multibach  91 of 100 with ending batch 1 of 1 in epoch  910 of 1000\n",
      "  Loss: 2.384E+00\n",
      "  Accuracy: 0.689\n",
      "  Accuracy per class: 0.722, 0.662, 0.750, 0.709, 0.652, 0.749, 0.709, 0.599, 0.511, 0.735\n",
      "Multibach  92 of 100 with ending batch 1 of 1 in epoch  920 of 1000\n",
      "  Loss: 2.377E+00\n",
      "  Accuracy: 0.689\n",
      "  Accuracy per class: 0.722, 0.662, 0.750, 0.709, 0.653, 0.750, 0.710, 0.599, 0.511, 0.735\n",
      "Multibach  93 of 100 with ending batch 1 of 1 in epoch  930 of 1000\n",
      "  Loss: 2.370E+00\n",
      "  Accuracy: 0.689\n",
      "  Accuracy per class: 0.723, 0.663, 0.750, 0.710, 0.653, 0.750, 0.710, 0.599, 0.512, 0.736\n",
      "Multibach  94 of 100 with ending batch 1 of 1 in epoch  940 of 1000\n",
      "  Loss: 2.363E+00\n",
      "  Accuracy: 0.690\n",
      "  Accuracy per class: 0.723, 0.663, 0.751, 0.710, 0.653, 0.750, 0.710, 0.600, 0.512, 0.736\n",
      "Multibach  95 of 100 with ending batch 1 of 1 in epoch  950 of 1000\n",
      "  Loss: 2.356E+00\n",
      "  Accuracy: 0.690\n",
      "  Accuracy per class: 0.723, 0.663, 0.751, 0.710, 0.654, 0.750, 0.710, 0.600, 0.513, 0.736\n",
      "Multibach  96 of 100 with ending batch 1 of 1 in epoch  960 of 1000\n",
      "  Loss: 2.349E+00\n",
      "  Accuracy: 0.690\n",
      "  Accuracy per class: 0.724, 0.663, 0.751, 0.710, 0.654, 0.750, 0.711, 0.601, 0.512, 0.737\n",
      "Multibach  97 of 100 with ending batch 1 of 1 in epoch  970 of 1000\n",
      "  Loss: 2.342E+00\n",
      "  Accuracy: 0.691\n",
      "  Accuracy per class: 0.724, 0.664, 0.751, 0.710, 0.654, 0.751, 0.711, 0.602, 0.513, 0.737\n",
      "Multibach  98 of 100 with ending batch 1 of 1 in epoch  980 of 1000\n",
      "  Loss: 2.336E+00\n",
      "  Accuracy: 0.691\n",
      "  Accuracy per class: 0.724, 0.664, 0.751, 0.711, 0.654, 0.751, 0.711, 0.603, 0.514, 0.737\n",
      "Multibach  99 of 100 with ending batch 1 of 1 in epoch  990 of 1000\n",
      "  Loss: 2.329E+00\n",
      "  Accuracy: 0.691\n",
      "  Accuracy per class: 0.725, 0.664, 0.752, 0.711, 0.655, 0.751, 0.711, 0.603, 0.514, 0.737\n",
      "Multibach 100 of 100 with ending batch 1 of 1 in epoch 1000 of 1000\n",
      "  Loss: 2.322E+00\n",
      "  Accuracy: 0.691\n",
      "  Accuracy per class: 0.725, 0.664, 0.752, 0.711, 0.655, 0.751, 0.711, 0.603, 0.514, 0.737\n",
      "\n",
      "Train logistic regression model with gradient descent using tensorflow\n",
      "Time ellapsed: 1079.136537 seconds\n"
     ]
    }
   ],
   "source": [
    "## Run session to train logistic regression model with gradient descent in tensorflow\n",
    "\n",
    "ndata = train_dataset.shape[0]\n",
    "batchsize = ndata # Batch size is equal to the size of the train set, so non-stochastic gradient descent is run\n",
    "\n",
    "# Set up dictionary feed\n",
    "feed = {build['X']: train_dataset[0:ndata, :], build['y']: onehot_train_labels[0:ndata]}\n",
    "\n",
    "nepochs = 1000 # Go through the training set 1000 times\n",
    "multibatchsize = 10*ndata # Stored monitored output every 100-th step (summaries per 100 epochs)\n",
    "\n",
    "# Initialize session\n",
    "session = tf.Session(graph=build['graph'])\n",
    "\n",
    "# Initialize saver\n",
    "saver = tf.train.Saver(max_to_keep=5)\n",
    "\n",
    "# Train the classifier\n",
    "with session.as_default():\n",
    "    # Initialize saver\n",
    "    saver = tf.train.Saver(max_to_keep=5)\n",
    "    \n",
    "    # Initialize variables\n",
    "    session.run(tf.global_variables_initializer())\n",
    "    \n",
    "    start_time = time.process_time()\n",
    "    train_output = train_classifier(\n",
    "        session, build, feed, ndata, batchsize, nclasses, nepochs,\n",
    "        saver=saver, save=True, monitor=monitor, board=board, multibatchsize=multibatchsize,\n",
    "        permute=False,\n",
    "        sessiondir=os.path.join('log', 'session', 'logreg_gd'),\n",
    "        boarddir=os.path.join('log', 'board', 'logreg_gd'),\n",
    "        verbose=True\n",
    "    )\n",
    "    end_time = time.process_time()\n",
    "    tf_logreg_gd_time = end_time-start_time\n",
    "\n",
    "print('\\nTrain logistic regression model with gradient descent using tensorflow')\n",
    "print('Time ellapsed: %f seconds' % tf_logreg_gd_time)"
   ]
  },
  {
   "cell_type": "code",
   "execution_count": 33,
   "metadata": {},
   "outputs": [
    {
     "data": {
      "image/png": "[encoded data removed]",
      "text/plain": [
       "<Figure size 432x288 with 1 Axes>"
      ]
     },
     "metadata": {},
     "output_type": "display_data"
    }
   ],
   "source": [
    "## Plot loss for logistic regression on train set with gradient descent in tensorflow\n",
    "\n",
    "plot_loss(train_output['loss'], marker='o')"
   ]
  },
  {
   "cell_type": "code",
   "execution_count": 34,
   "metadata": {},
   "outputs": [
    {
     "data": {
      "image/png": "[encoded data removed]",
      "text/plain": [
       "<Figure size 432x288 with 1 Axes>"
      ]
     },
     "metadata": {},
     "output_type": "display_data"
    }
   ],
   "source": [
    "## Plot accuracy for logistic regression on train set with gradient descent in tensorflow\n",
    "\n",
    "plot_accuracy(train_output['accuracy'], marker='o')"
   ]
  },
  {
   "cell_type": "code",
   "execution_count": 35,
   "metadata": {},
   "outputs": [
    {
     "data": {
      "text/plain": [
       "array([15856000, 14717000, 17124000, 14387000, 16481000, 16435000,\n",
       "       17502000, 11206000, 11074000, 16567000])"
      ]
     },
     "execution_count": 35,
     "metadata": {},
     "output_type": "execute_result"
    }
   ],
   "source": [
    "## Count number of samples per class in train set for logistic regression with gradient descent in tensorflow\n",
    "\n",
    "train_tf_logreg_gd_element_count_per_class = np.sum(train_output['nlabels_per_class'], axis=0)\n",
    "\n",
    "train_tf_logreg_gd_element_count_per_class"
   ]
  },
  {
   "cell_type": "code",
   "execution_count": 36,
   "metadata": {},
   "outputs": [
    {
     "data": {
      "text/plain": [
       "array([10660885,  8884437, 11749624,  9266926,  9462875, 11258015,\n",
       "       11082324,  5806274,  5194804, 11216242])"
      ]
     },
     "execution_count": 36,
     "metadata": {},
     "output_type": "execute_result"
    }
   ],
   "source": [
    "## Count correct predictions per class in train set for logistic regression with gradient descent in TensorFlow\n",
    "\n",
    "train_tf_logreg_gd_pred_count_per_class = np.sum(train_output['npredictions_per_class'], axis=0)\n",
    "\n",
    "train_tf_logreg_gd_pred_count_per_class"
   ]
  },
  {
   "cell_type": "code",
   "execution_count": 37,
   "metadata": {},
   "outputs": [
    {
     "data": {
      "text/plain": [
       "array([67.24, 60.37, 68.61, 64.41, 57.42, 68.5 , 63.32, 51.81, 46.91,\n",
       "       67.7 ])"
      ]
     },
     "execution_count": 37,
     "metadata": {},
     "output_type": "execute_result"
    }
   ],
   "source": [
    "## Compute prediction accuracy per class in train set for logistic regression with gradient descent in TensorFlow\n",
    "\n",
    "train_tf_logreg_gd_pred_score_per_class = np.round(\n",
    "    100*train_tf_logreg_gd_pred_count_per_class/train_tf_logreg_gd_element_count_per_class, 2\n",
    ")\n",
    "\n",
    "train_tf_logreg_gd_pred_score_per_class"
   ]
  },
  {
   "cell_type": "code",
   "execution_count": 38,
   "metadata": {},
   "outputs": [
    {
     "name": "stdout",
     "output_type": "stream",
     "text": [
      "INFO:tensorflow:Restoring parameters from log/session/logreg_gd\n",
      "Evaluating model...\n",
      "  Loss: 1.351E+00\n",
      "  Accuracy: 0.796\n",
      "  Accuracy per class: 0.813, 0.781, 0.836, 0.847, 0.751, 0.854, 0.796, 0.721, 0.665, 0.837\n",
      "Model evaluation completed\n",
      "\n",
      "Evaluate logistic regression model (trained with gradient descent using tensorflow) on test set\n"
     ]
    }
   ],
   "source": [
    "## Run session to evaluate logistic regression model (trained with gradient descent in tensorflow) on test set\n",
    "\n",
    "batchsize = test_dataset.shape[0]\n",
    "\n",
    "# Set up dictionary feed\n",
    "feed = {build['X']: test_dataset, build['y']: onehot_test_labels}\n",
    "\n",
    "# Evaluate the model on the test set\n",
    "test_output = evaluate_classifier(\n",
    "    session, saver, build, feed, batchsize, nclasses,\n",
    "    monitor=monitor,\n",
    "    sessiondir=os.path.join('log', 'session', 'logreg_gd'),\n",
    "    verbose=True\n",
    ")\n",
    "\n",
    "print('\\nEvaluate logistic regression model (trained with gradient descent using tensorflow) on test set')"
   ]
  },
  {
   "cell_type": "code",
   "execution_count": 39,
   "metadata": {},
   "outputs": [
    {
     "data": {
      "text/plain": [
       "array([961, 892, 966, 898, 977, 964, 982, 706, 687, 973])"
      ]
     },
     "execution_count": 39,
     "metadata": {},
     "output_type": "execute_result"
    }
   ],
   "source": [
    "## Display number of samples per class in test set for logistic regression with gradient descent in tensorflow\n",
    "\n",
    "test_tf_logreg_gd_element_count_per_class = test_output['nlabels_per_class']\n",
    "\n",
    "test_tf_logreg_gd_element_count_per_class"
   ]
  },
  {
   "cell_type": "code",
   "execution_count": 40,
   "metadata": {},
   "outputs": [
    {
     "data": {
      "text/plain": [
       "array([781, 697, 808, 761, 734, 823, 782, 509, 457, 814])"
      ]
     },
     "execution_count": 40,
     "metadata": {},
     "output_type": "execute_result"
    }
   ],
   "source": [
    "## Display correct predictions per class in test set for logistic regression with gradient descent in tensorflow\n",
    "\n",
    "test_tf_logreg_gd_pred_count_per_class = test_output['npredictions_per_class']\n",
    "\n",
    "test_tf_logreg_gd_pred_count_per_class"
   ]
  },
  {
   "cell_type": "code",
   "execution_count": 41,
   "metadata": {},
   "outputs": [
    {
     "data": {
      "text/plain": [
       "array([81.27, 78.14, 83.64, 84.74, 75.13, 85.37, 79.63, 72.1 , 66.52,\n",
       "       83.66])"
      ]
     },
     "execution_count": 41,
     "metadata": {},
     "output_type": "execute_result"
    }
   ],
   "source": [
    "## Compute prediction accuracy per class in test set for logistic regression with gradient descent in fensorflow\n",
    "\n",
    "test_tf_logreg_gd_pred_score_per_class = np.round(100*test_output['accuracy_per_class'], 2)\n",
    "\n",
    "test_tf_logreg_gd_pred_score_per_class"
   ]
  },
  {
   "cell_type": "code",
   "execution_count": 42,
   "metadata": {},
   "outputs": [
    {
     "data": {
      "image/png": "[encoded data removed]",
      "text/plain": [
       "<Figure size 432x288 with 1 Axes>"
      ]
     },
     "metadata": {},
     "output_type": "display_data"
    }
   ],
   "source": [
    "## Plot prediction accuracy per class in train and test set for logistic regression with gradient descent in tensorflow\n",
    "\n",
    "plot_prediction_accuracy_per_class(\n",
    "    [train_tf_logreg_gd_pred_score_per_class, test_tf_logreg_gd_pred_score_per_class], nclasses, \n",
    "    ('green', 'red'), ('Train set', 'Test set'), string.ascii_uppercase[:nclasses]\n",
    ")"
   ]
  },
  {
   "cell_type": "markdown",
   "metadata": {},
   "source": [
    "To use tensorboard, follow two steps:\n",
    "1. Run tensorboard via the shell command `tensorboard --logdir=log/session/logreg_gd`.\n",
    "2. Open tensorboard on the browser at 'localhost:6006'."
   ]
  },
  {
   "cell_type": "markdown",
   "metadata": {},
   "source": [
    "### Logistic regression with stochastic gradient descent using tensorflow"
   ]
  },
  {
   "cell_type": "markdown",
   "metadata": {},
   "source": [
    "To run stochastic gradient descent, a subset of the train set is selected randomly at each iteration of the optimizer. In the example below, the batch size is set to 157 (`batchsize = 157`), so a subset of 157 letters is used at each iteration. To select a batch of 157 letters randomly, the optional argument `permute=True` is passed to the function `train_classifier()`.\n",
    "\n",
    "100 epochs are run (`nepochs = 100`). Each multibatch is set to be equal to an epoch (`ndata = train_dataset.shape[0]`, `nbatches = ndata//batchsize` and `multibatchsize = nbatches*batchsize`), therefore results are printed and stored for each epoch.\n",
    "\n",
    "Due to the smaller batchsize (157 letters instead of the whole train set), an iteration for stochastic gradient descent has smaller computational cost than an iteration for gradient descent."
   ]
  },
  {
   "cell_type": "code",
   "execution_count": 43,
   "metadata": {},
   "outputs": [],
   "source": [
    "## Reset default graph\n",
    "\n",
    "tf.reset_default_graph()"
   ]
  },
  {
   "cell_type": "code",
   "execution_count": 44,
   "metadata": {},
   "outputs": [],
   "source": [
    "## Build graph for logistic regression on train set with stochastic gradient descent using tensorflow\n",
    "\n",
    "# Initialize logistic regression parameters\n",
    "initw = tf.truncated_normal([npixels, nclasses])\n",
    "initb = tf.zeros([nclasses])\n",
    "\n",
    "# Specify what will be monitored and what will be stored in tensorboard\n",
    "monitor = ('loss', 'accuracy', 'accuracy_per_class')\n",
    "board = ('loss', 'accuracy', 'histogram')\n",
    "\n",
    "# Build graph\n",
    "build = build_logreg_model(npixels, nclasses, initw, initb, board=board)\n",
    "build_classifier_graph(build, tf.train.GradientDescentOptimizer(0.1), activation='softmax_with_logits', monitor=monitor, board=board)"
   ]
  },
  {
   "cell_type": "code",
   "execution_count": 45,
   "metadata": {},
   "outputs": [
    {
     "name": "stdout",
     "output_type": "stream",
     "text": [
      "Multibach   1 of 100 with ending batch 964 of 964 in epoch   1 of 100\n",
      "  Loss: 3.465E+00\n",
      "  Accuracy: 0.614\n",
      "  Accuracy per class: 0.663, 0.542, 0.664, 0.595, 0.582, 0.678, 0.640, 0.514, 0.484, 0.692\n",
      "Multibach   2 of 100 with ending batch 964 of 964 in epoch   2 of 100\n",
      "  Loss: 2.144E+00\n",
      "  Accuracy: 0.697\n",
      "  Accuracy per class: 0.736, 0.656, 0.758, 0.700, 0.664, 0.757, 0.726, 0.611, 0.536, 0.743\n",
      "Multibach   3 of 100 with ending batch 964 of 964 in epoch   3 of 100\n",
      "  Loss: 1.829E+00\n",
      "  Accuracy: 0.709\n",
      "  Accuracy per class: 0.739, 0.677, 0.771, 0.714, 0.676, 0.765, 0.734, 0.628, 0.549, 0.756\n",
      "Multibach   4 of 100 with ending batch 964 of 964 in epoch   4 of 100\n",
      "  Loss: 1.640E+00\n",
      "  Accuracy: 0.715\n",
      "  Accuracy per class: 0.743, 0.684, 0.778, 0.719, 0.682, 0.770, 0.737, 0.637, 0.561, 0.763\n",
      "Multibach   5 of 100 with ending batch 964 of 964 in epoch   5 of 100\n",
      "  Loss: 1.508E+00\n",
      "  Accuracy: 0.721\n",
      "  Accuracy per class: 0.745, 0.689, 0.784, 0.723, 0.690, 0.776, 0.742, 0.641, 0.570, 0.767\n",
      "Multibach   6 of 100 with ending batch 964 of 964 in epoch   6 of 100\n",
      "  Loss: 1.408E+00\n",
      "  Accuracy: 0.725\n",
      "  Accuracy per class: 0.748, 0.693, 0.790, 0.727, 0.694, 0.780, 0.745, 0.645, 0.575, 0.772\n",
      "Multibach   7 of 100 with ending batch 964 of 964 in epoch   7 of 100\n",
      "  Loss: 1.330E+00\n",
      "  Accuracy: 0.729\n",
      "  Accuracy per class: 0.748, 0.698, 0.795, 0.732, 0.699, 0.784, 0.747, 0.650, 0.581, 0.774\n",
      "Multibach   8 of 100 with ending batch 964 of 964 in epoch   8 of 100\n",
      "  Loss: 1.268E+00\n",
      "  Accuracy: 0.732\n",
      "  Accuracy per class: 0.749, 0.700, 0.798, 0.735, 0.701, 0.788, 0.751, 0.658, 0.585, 0.778\n",
      "Multibach   9 of 100 with ending batch 964 of 964 in epoch   9 of 100\n",
      "  Loss: 1.216E+00\n",
      "  Accuracy: 0.736\n",
      "  Accuracy per class: 0.753, 0.704, 0.802, 0.739, 0.706, 0.792, 0.752, 0.660, 0.589, 0.781\n",
      "Multibach  10 of 100 with ending batch 964 of 964 in epoch  10 of 100\n",
      "  Loss: 1.172E+00\n",
      "  Accuracy: 0.739\n",
      "  Accuracy per class: 0.756, 0.707, 0.806, 0.743, 0.706, 0.794, 0.756, 0.665, 0.595, 0.787\n",
      "Multibach  11 of 100 with ending batch 964 of 964 in epoch  11 of 100\n",
      "  Loss: 1.135E+00\n",
      "  Accuracy: 0.742\n",
      "  Accuracy per class: 0.757, 0.709, 0.810, 0.744, 0.713, 0.799, 0.757, 0.667, 0.596, 0.786\n",
      "Multibach  12 of 100 with ending batch 964 of 964 in epoch  12 of 100\n",
      "  Loss: 1.103E+00\n",
      "  Accuracy: 0.745\n",
      "  Accuracy per class: 0.761, 0.713, 0.811, 0.751, 0.713, 0.800, 0.760, 0.675, 0.599, 0.791\n",
      "Multibach  13 of 100 with ending batch 964 of 964 in epoch  13 of 100\n",
      "  Loss: 1.074E+00\n",
      "  Accuracy: 0.747\n",
      "  Accuracy per class: 0.762, 0.715, 0.812, 0.752, 0.718, 0.804, 0.762, 0.675, 0.601, 0.791\n",
      "Multibach  14 of 100 with ending batch 964 of 964 in epoch  14 of 100\n",
      "  Loss: 1.050E+00\n",
      "  Accuracy: 0.749\n",
      "  Accuracy per class: 0.764, 0.718, 0.816, 0.753, 0.720, 0.805, 0.765, 0.677, 0.608, 0.793\n",
      "Multibach  15 of 100 with ending batch 964 of 964 in epoch  15 of 100\n",
      "  Loss: 1.027E+00\n",
      "  Accuracy: 0.752\n",
      "  Accuracy per class: 0.767, 0.721, 0.818, 0.755, 0.725, 0.808, 0.768, 0.681, 0.606, 0.796\n",
      "Multibach  16 of 100 with ending batch 964 of 964 in epoch  16 of 100\n",
      "  Loss: 1.007E+00\n",
      "  Accuracy: 0.754\n",
      "  Accuracy per class: 0.768, 0.723, 0.820, 0.758, 0.726, 0.809, 0.768, 0.683, 0.610, 0.795\n",
      "Multibach  17 of 100 with ending batch 964 of 964 in epoch  17 of 100\n",
      "  Loss: 9.896E-01\n",
      "  Accuracy: 0.755\n",
      "  Accuracy per class: 0.768, 0.725, 0.820, 0.760, 0.727, 0.811, 0.770, 0.687, 0.609, 0.799\n",
      "Multibach  18 of 100 with ending batch 964 of 964 in epoch  18 of 100\n",
      "  Loss: 9.736E-01\n",
      "  Accuracy: 0.758\n",
      "  Accuracy per class: 0.772, 0.725, 0.823, 0.764, 0.730, 0.813, 0.774, 0.690, 0.610, 0.801\n",
      "Multibach  19 of 100 with ending batch 964 of 964 in epoch  19 of 100\n",
      "  Loss: 9.592E-01\n",
      "  Accuracy: 0.760\n",
      "  Accuracy per class: 0.773, 0.729, 0.824, 0.764, 0.733, 0.816, 0.775, 0.692, 0.615, 0.802\n",
      "Multibach  20 of 100 with ending batch 964 of 964 in epoch  20 of 100\n",
      "  Loss: 9.455E-01\n",
      "  Accuracy: 0.761\n",
      "  Accuracy per class: 0.774, 0.729, 0.826, 0.766, 0.734, 0.817, 0.776, 0.695, 0.613, 0.802\n",
      "Multibach  21 of 100 with ending batch 964 of 964 in epoch  21 of 100\n",
      "  Loss: 9.333E-01\n",
      "  Accuracy: 0.763\n",
      "  Accuracy per class: 0.775, 0.734, 0.828, 0.768, 0.735, 0.818, 0.780, 0.697, 0.617, 0.806\n",
      "Multibach  22 of 100 with ending batch 964 of 964 in epoch  22 of 100\n",
      "  Loss: 9.222E-01\n",
      "  Accuracy: 0.764\n",
      "  Accuracy per class: 0.777, 0.733, 0.828, 0.769, 0.736, 0.819, 0.779, 0.701, 0.618, 0.805\n",
      "Multibach  23 of 100 with ending batch 964 of 964 in epoch  23 of 100\n",
      "  Loss: 9.118E-01\n",
      "  Accuracy: 0.766\n",
      "  Accuracy per class: 0.778, 0.735, 0.830, 0.773, 0.739, 0.820, 0.781, 0.701, 0.618, 0.808\n",
      "Multibach  24 of 100 with ending batch 964 of 964 in epoch  24 of 100\n",
      "  Loss: 9.026E-01\n",
      "  Accuracy: 0.767\n",
      "  Accuracy per class: 0.778, 0.738, 0.833, 0.774, 0.740, 0.822, 0.783, 0.704, 0.619, 0.808\n",
      "Multibach  25 of 100 with ending batch 964 of 964 in epoch  25 of 100\n",
      "  Loss: 8.936E-01\n",
      "  Accuracy: 0.768\n",
      "  Accuracy per class: 0.779, 0.737, 0.832, 0.775, 0.741, 0.824, 0.785, 0.705, 0.623, 0.810\n",
      "Multibach  26 of 100 with ending batch 964 of 964 in epoch  26 of 100\n",
      "  Loss: 8.856E-01\n",
      "  Accuracy: 0.770\n",
      "  Accuracy per class: 0.782, 0.739, 0.833, 0.778, 0.742, 0.826, 0.784, 0.709, 0.620, 0.811\n",
      "Multibach  27 of 100 with ending batch 964 of 964 in epoch  27 of 100\n",
      "  Loss: 8.780E-01\n",
      "  Accuracy: 0.771\n",
      "  Accuracy per class: 0.782, 0.741, 0.836, 0.780, 0.744, 0.826, 0.784, 0.709, 0.627, 0.812\n",
      "Multibach  28 of 100 with ending batch 964 of 964 in epoch  28 of 100\n",
      "  Loss: 8.710E-01\n",
      "  Accuracy: 0.772\n",
      "  Accuracy per class: 0.783, 0.742, 0.835, 0.780, 0.746, 0.829, 0.786, 0.709, 0.625, 0.812\n",
      "Multibach  29 of 100 with ending batch 964 of 964 in epoch  29 of 100\n",
      "  Loss: 8.643E-01\n",
      "  Accuracy: 0.773\n",
      "  Accuracy per class: 0.785, 0.746, 0.837, 0.780, 0.746, 0.829, 0.787, 0.712, 0.625, 0.813\n",
      "Multibach  30 of 100 with ending batch 964 of 964 in epoch  30 of 100\n",
      "  Loss: 8.582E-01\n",
      "  Accuracy: 0.774\n",
      "  Accuracy per class: 0.784, 0.744, 0.838, 0.782, 0.747, 0.829, 0.789, 0.712, 0.626, 0.815\n",
      "Multibach  31 of 100 with ending batch 964 of 964 in epoch  31 of 100\n",
      "  Loss: 8.526E-01\n",
      "  Accuracy: 0.775\n",
      "  Accuracy per class: 0.786, 0.746, 0.838, 0.782, 0.748, 0.831, 0.791, 0.716, 0.628, 0.816\n",
      "Multibach  32 of 100 with ending batch 964 of 964 in epoch  32 of 100\n",
      "  Loss: 8.473E-01\n",
      "  Accuracy: 0.776\n",
      "  Accuracy per class: 0.786, 0.748, 0.837, 0.784, 0.749, 0.832, 0.790, 0.717, 0.629, 0.817\n",
      "Multibach  33 of 100 with ending batch 964 of 964 in epoch  33 of 100\n",
      "  Loss: 8.423E-01\n",
      "  Accuracy: 0.777\n",
      "  Accuracy per class: 0.790, 0.748, 0.841, 0.786, 0.750, 0.832, 0.790, 0.718, 0.627, 0.818\n",
      "Multibach  34 of 100 with ending batch 964 of 964 in epoch  34 of 100\n",
      "  Loss: 8.376E-01\n",
      "  Accuracy: 0.778\n",
      "  Accuracy per class: 0.788, 0.749, 0.840, 0.786, 0.752, 0.833, 0.792, 0.719, 0.632, 0.818\n",
      "Multibach  35 of 100 with ending batch 964 of 964 in epoch  35 of 100\n",
      "  Loss: 8.331E-01\n",
      "  Accuracy: 0.779\n",
      "  Accuracy per class: 0.789, 0.751, 0.842, 0.786, 0.753, 0.834, 0.793, 0.720, 0.630, 0.820\n",
      "Multibach  36 of 100 with ending batch 964 of 964 in epoch  36 of 100\n",
      "  Loss: 8.292E-01\n",
      "  Accuracy: 0.779\n",
      "  Accuracy per class: 0.789, 0.750, 0.839, 0.788, 0.753, 0.836, 0.795, 0.721, 0.631, 0.820\n",
      "Multibach  37 of 100 with ending batch 964 of 964 in epoch  37 of 100\n",
      "  Loss: 8.253E-01\n",
      "  Accuracy: 0.780\n",
      "  Accuracy per class: 0.790, 0.749, 0.841, 0.788, 0.753, 0.836, 0.794, 0.723, 0.634, 0.818\n",
      "Multibach  38 of 100 with ending batch 964 of 964 in epoch  38 of 100\n",
      "  Loss: 8.214E-01\n",
      "  Accuracy: 0.781\n",
      "  Accuracy per class: 0.790, 0.753, 0.842, 0.787, 0.753, 0.836, 0.795, 0.723, 0.635, 0.823\n",
      "Multibach  39 of 100 with ending batch 964 of 964 in epoch  39 of 100\n",
      "  Loss: 8.180E-01\n",
      "  Accuracy: 0.782\n",
      "  Accuracy per class: 0.792, 0.753, 0.842, 0.792, 0.754, 0.837, 0.796, 0.724, 0.636, 0.822\n",
      "Multibach  40 of 100 with ending batch 964 of 964 in epoch  40 of 100\n",
      "  Loss: 8.150E-01\n",
      "  Accuracy: 0.782\n",
      "  Accuracy per class: 0.792, 0.754, 0.842, 0.788, 0.755, 0.839, 0.796, 0.725, 0.634, 0.823\n",
      "Multibach  41 of 100 with ending batch 964 of 964 in epoch  41 of 100\n",
      "  Loss: 8.119E-01\n",
      "  Accuracy: 0.783\n",
      "  Accuracy per class: 0.794, 0.753, 0.843, 0.791, 0.756, 0.839, 0.797, 0.725, 0.637, 0.821\n",
      "Multibach  42 of 100 with ending batch 964 of 964 in epoch  42 of 100\n",
      "  Loss: 8.088E-01\n",
      "  Accuracy: 0.784\n",
      "  Accuracy per class: 0.793, 0.755, 0.844, 0.792, 0.757, 0.838, 0.798, 0.728, 0.636, 0.824\n",
      "Multibach  43 of 100 with ending batch 964 of 964 in epoch  43 of 100\n",
      "  Loss: 8.058E-01\n",
      "  Accuracy: 0.784\n",
      "  Accuracy per class: 0.794, 0.756, 0.844, 0.794, 0.757, 0.840, 0.798, 0.728, 0.638, 0.824\n",
      "Multibach  44 of 100 with ending batch 964 of 964 in epoch  44 of 100\n",
      "  Loss: 8.034E-01\n",
      "  Accuracy: 0.784\n",
      "  Accuracy per class: 0.794, 0.756, 0.844, 0.792, 0.757, 0.839, 0.799, 0.729, 0.638, 0.824\n",
      "Multibach  45 of 100 with ending batch 964 of 964 in epoch  45 of 100\n",
      "  Loss: 8.007E-01\n",
      "  Accuracy: 0.785\n",
      "  Accuracy per class: 0.795, 0.757, 0.846, 0.793, 0.759, 0.841, 0.800, 0.728, 0.638, 0.825\n",
      "Multibach  46 of 100 with ending batch 964 of 964 in epoch  46 of 100\n",
      "  Loss: 7.984E-01\n",
      "  Accuracy: 0.785\n",
      "  Accuracy per class: 0.795, 0.758, 0.844, 0.793, 0.758, 0.842, 0.799, 0.732, 0.636, 0.825\n",
      "Multibach  47 of 100 with ending batch 964 of 964 in epoch  47 of 100\n",
      "  Loss: 7.960E-01\n",
      "  Accuracy: 0.786\n",
      "  Accuracy per class: 0.796, 0.757, 0.846, 0.794, 0.759, 0.842, 0.800, 0.730, 0.639, 0.825\n",
      "Multibach  48 of 100 with ending batch 964 of 964 in epoch  48 of 100\n",
      "  Loss: 7.941E-01\n",
      "  Accuracy: 0.786\n",
      "  Accuracy per class: 0.797, 0.757, 0.845, 0.794, 0.759, 0.843, 0.801, 0.731, 0.641, 0.827\n",
      "Multibach  49 of 100 with ending batch 964 of 964 in epoch  49 of 100\n",
      "  Loss: 7.919E-01\n",
      "  Accuracy: 0.787\n",
      "  Accuracy per class: 0.798, 0.759, 0.846, 0.794, 0.760, 0.843, 0.799, 0.732, 0.639, 0.828\n",
      "Multibach  50 of 100 with ending batch 964 of 964 in epoch  50 of 100\n",
      "  Loss: 7.900E-01\n",
      "  Accuracy: 0.787\n",
      "  Accuracy per class: 0.796, 0.760, 0.847, 0.795, 0.759, 0.844, 0.802, 0.735, 0.641, 0.826\n",
      "Multibach  51 of 100 with ending batch 964 of 964 in epoch  51 of 100\n",
      "  Loss: 7.879E-01\n",
      "  Accuracy: 0.787\n",
      "  Accuracy per class: 0.797, 0.757, 0.847, 0.795, 0.762, 0.844, 0.801, 0.735, 0.640, 0.826\n",
      "Multibach  52 of 100 with ending batch 964 of 964 in epoch  52 of 100\n",
      "  Loss: 7.860E-01\n",
      "  Accuracy: 0.788\n",
      "  Accuracy per class: 0.796, 0.761, 0.847, 0.796, 0.761, 0.845, 0.803, 0.733, 0.642, 0.827\n",
      "Multibach  53 of 100 with ending batch 964 of 964 in epoch  53 of 100\n",
      "  Loss: 7.846E-01\n",
      "  Accuracy: 0.789\n",
      "  Accuracy per class: 0.798, 0.761, 0.847, 0.796, 0.762, 0.844, 0.803, 0.735, 0.641, 0.827\n",
      "Multibach  54 of 100 with ending batch 964 of 964 in epoch  54 of 100\n",
      "  Loss: 7.829E-01\n",
      "  Accuracy: 0.789\n",
      "  Accuracy per class: 0.797, 0.761, 0.846, 0.798, 0.761, 0.845, 0.802, 0.736, 0.641, 0.830\n",
      "Multibach  55 of 100 with ending batch 964 of 964 in epoch  55 of 100\n",
      "  Loss: 7.816E-01\n",
      "  Accuracy: 0.789\n",
      "  Accuracy per class: 0.800, 0.760, 0.848, 0.797, 0.762, 0.847, 0.803, 0.734, 0.641, 0.829\n",
      "Multibach  56 of 100 with ending batch 964 of 964 in epoch  56 of 100\n",
      "  Loss: 7.798E-01\n",
      "  Accuracy: 0.790\n",
      "  Accuracy per class: 0.799, 0.761, 0.849, 0.798, 0.762, 0.847, 0.803, 0.735, 0.641, 0.829\n",
      "Multibach  57 of 100 with ending batch 964 of 964 in epoch  57 of 100\n",
      "  Loss: 7.785E-01\n",
      "  Accuracy: 0.790\n",
      "  Accuracy per class: 0.801, 0.761, 0.850, 0.798, 0.762, 0.846, 0.803, 0.738, 0.639, 0.827\n",
      "Multibach  58 of 100 with ending batch 964 of 964 in epoch  58 of 100\n",
      "  Loss: 7.770E-01\n",
      "  Accuracy: 0.791\n",
      "  Accuracy per class: 0.800, 0.762, 0.849, 0.799, 0.763, 0.846, 0.805, 0.740, 0.642, 0.830\n",
      "Multibach  59 of 100 with ending batch 964 of 964 in epoch  59 of 100\n",
      "  Loss: 7.757E-01\n",
      "  Accuracy: 0.791\n",
      "  Accuracy per class: 0.800, 0.762, 0.851, 0.799, 0.764, 0.846, 0.805, 0.737, 0.642, 0.828\n",
      "Multibach  60 of 100 with ending batch 964 of 964 in epoch  60 of 100\n",
      "  Loss: 7.744E-01\n",
      "  Accuracy: 0.791\n",
      "  Accuracy per class: 0.800, 0.763, 0.849, 0.799, 0.764, 0.847, 0.806, 0.738, 0.643, 0.828\n",
      "Multibach  61 of 100 with ending batch 964 of 964 in epoch  61 of 100\n",
      "  Loss: 7.732E-01\n",
      "  Accuracy: 0.791\n",
      "  Accuracy per class: 0.801, 0.761, 0.849, 0.801, 0.764, 0.846, 0.804, 0.739, 0.642, 0.830\n",
      "Multibach  62 of 100 with ending batch 964 of 964 in epoch  62 of 100\n",
      "  Loss: 7.720E-01\n",
      "  Accuracy: 0.791\n",
      "  Accuracy per class: 0.801, 0.763, 0.851, 0.799, 0.763, 0.848, 0.806, 0.740, 0.641, 0.830\n",
      "Multibach  63 of 100 with ending batch 964 of 964 in epoch  63 of 100\n",
      "  Loss: 7.710E-01\n",
      "  Accuracy: 0.791\n",
      "  Accuracy per class: 0.800, 0.765, 0.851, 0.799, 0.765, 0.848, 0.807, 0.738, 0.642, 0.829\n",
      "Multibach  64 of 100 with ending batch 964 of 964 in epoch  64 of 100\n",
      "  Loss: 7.700E-01\n",
      "  Accuracy: 0.792\n",
      "  Accuracy per class: 0.802, 0.763, 0.850, 0.801, 0.765, 0.848, 0.806, 0.740, 0.642, 0.830\n",
      "Multibach  65 of 100 with ending batch 964 of 964 in epoch  65 of 100\n",
      "  Loss: 7.687E-01\n",
      "  Accuracy: 0.792\n",
      "  Accuracy per class: 0.800, 0.764, 0.850, 0.800, 0.764, 0.848, 0.806, 0.739, 0.644, 0.831\n",
      "Multibach  66 of 100 with ending batch 964 of 964 in epoch  66 of 100\n",
      "  Loss: 7.677E-01\n",
      "  Accuracy: 0.792\n",
      "  Accuracy per class: 0.804, 0.765, 0.851, 0.801, 0.764, 0.847, 0.806, 0.740, 0.642, 0.830\n",
      "Multibach  67 of 100 with ending batch 964 of 964 in epoch  67 of 100\n",
      "  Loss: 7.667E-01\n",
      "  Accuracy: 0.793\n",
      "  Accuracy per class: 0.804, 0.764, 0.851, 0.800, 0.764, 0.851, 0.805, 0.741, 0.643, 0.833\n",
      "Multibach  68 of 100 with ending batch 964 of 964 in epoch  68 of 100\n",
      "  Loss: 7.660E-01\n",
      "  Accuracy: 0.792\n",
      "  Accuracy per class: 0.801, 0.765, 0.851, 0.800, 0.766, 0.850, 0.804, 0.740, 0.644, 0.829\n",
      "Multibach  69 of 100 with ending batch 964 of 964 in epoch  69 of 100\n",
      "  Loss: 7.648E-01\n",
      "  Accuracy: 0.793\n",
      "  Accuracy per class: 0.801, 0.766, 0.850, 0.802, 0.765, 0.850, 0.807, 0.740, 0.643, 0.832\n",
      "Multibach  70 of 100 with ending batch 964 of 964 in epoch  70 of 100\n",
      "  Loss: 7.641E-01\n",
      "  Accuracy: 0.793\n",
      "  Accuracy per class: 0.803, 0.766, 0.852, 0.802, 0.767, 0.850, 0.806, 0.741, 0.644, 0.832\n",
      "Multibach  71 of 100 with ending batch 964 of 964 in epoch  71 of 100\n",
      "  Loss: 7.631E-01\n",
      "  Accuracy: 0.793\n",
      "  Accuracy per class: 0.803, 0.765, 0.851, 0.804, 0.764, 0.850, 0.807, 0.744, 0.641, 0.831\n",
      "Multibach  72 of 100 with ending batch 964 of 964 in epoch  72 of 100\n",
      "  Loss: 7.622E-01\n",
      "  Accuracy: 0.794\n",
      "  Accuracy per class: 0.803, 0.766, 0.851, 0.800, 0.768, 0.851, 0.808, 0.744, 0.643, 0.833\n",
      "Multibach  73 of 100 with ending batch 964 of 964 in epoch  73 of 100\n",
      "  Loss: 7.617E-01\n",
      "  Accuracy: 0.793\n",
      "  Accuracy per class: 0.804, 0.766, 0.852, 0.801, 0.765, 0.850, 0.807, 0.743, 0.644, 0.831\n",
      "Multibach  74 of 100 with ending batch 964 of 964 in epoch  74 of 100\n",
      "  Loss: 7.610E-01\n",
      "  Accuracy: 0.793\n",
      "  Accuracy per class: 0.804, 0.765, 0.853, 0.801, 0.765, 0.851, 0.806, 0.743, 0.645, 0.831\n",
      "Multibach  75 of 100 with ending batch 964 of 964 in epoch  75 of 100\n",
      "  Loss: 7.603E-01\n",
      "  Accuracy: 0.794\n",
      "  Accuracy per class: 0.803, 0.765, 0.853, 0.803, 0.766, 0.851, 0.807, 0.743, 0.644, 0.831\n",
      "Multibach  76 of 100 with ending batch 964 of 964 in epoch  76 of 100\n",
      "  Loss: 7.595E-01\n",
      "  Accuracy: 0.794\n",
      "  Accuracy per class: 0.805, 0.767, 0.853, 0.803, 0.766, 0.852, 0.807, 0.743, 0.644, 0.833\n",
      "Multibach  77 of 100 with ending batch 964 of 964 in epoch  77 of 100\n",
      "  Loss: 7.587E-01\n",
      "  Accuracy: 0.794\n",
      "  Accuracy per class: 0.804, 0.766, 0.852, 0.802, 0.767, 0.851, 0.807, 0.746, 0.645, 0.832\n",
      "Multibach  78 of 100 with ending batch 964 of 964 in epoch  78 of 100\n",
      "  Loss: 7.580E-01\n",
      "  Accuracy: 0.795\n",
      "  Accuracy per class: 0.806, 0.768, 0.853, 0.803, 0.767, 0.851, 0.809, 0.746, 0.644, 0.833\n",
      "Multibach  79 of 100 with ending batch 964 of 964 in epoch  79 of 100\n",
      "  Loss: 7.574E-01\n",
      "  Accuracy: 0.795\n",
      "  Accuracy per class: 0.807, 0.766, 0.853, 0.804, 0.768, 0.851, 0.807, 0.745, 0.646, 0.833\n",
      "Multibach  80 of 100 with ending batch 964 of 964 in epoch  80 of 100\n",
      "  Loss: 7.567E-01\n",
      "  Accuracy: 0.795\n",
      "  Accuracy per class: 0.804, 0.768, 0.854, 0.803, 0.766, 0.852, 0.810, 0.745, 0.642, 0.834\n",
      "Multibach  81 of 100 with ending batch 964 of 964 in epoch  81 of 100\n",
      "  Loss: 7.561E-01\n",
      "  Accuracy: 0.795\n",
      "  Accuracy per class: 0.805, 0.766, 0.854, 0.805, 0.767, 0.852, 0.807, 0.746, 0.647, 0.833\n",
      "Multibach  82 of 100 with ending batch 964 of 964 in epoch  82 of 100\n",
      "  Loss: 7.554E-01\n",
      "  Accuracy: 0.794\n",
      "  Accuracy per class: 0.805, 0.765, 0.853, 0.804, 0.767, 0.852, 0.808, 0.743, 0.642, 0.832\n",
      "Multibach  83 of 100 with ending batch 964 of 964 in epoch  83 of 100\n",
      "  Loss: 7.549E-01\n",
      "  Accuracy: 0.795\n",
      "  Accuracy per class: 0.807, 0.768, 0.853, 0.803, 0.768, 0.852, 0.809, 0.746, 0.646, 0.832\n",
      "Multibach  84 of 100 with ending batch 964 of 964 in epoch  84 of 100\n",
      "  Loss: 7.547E-01\n",
      "  Accuracy: 0.795\n",
      "  Accuracy per class: 0.806, 0.769, 0.853, 0.804, 0.767, 0.853, 0.809, 0.747, 0.644, 0.833\n",
      "Multibach  85 of 100 with ending batch 964 of 964 in epoch  85 of 100\n",
      "  Loss: 7.540E-01\n",
      "  Accuracy: 0.796\n",
      "  Accuracy per class: 0.805, 0.767, 0.853, 0.804, 0.769, 0.853, 0.810, 0.745, 0.645, 0.836\n",
      "Multibach  86 of 100 with ending batch 964 of 964 in epoch  86 of 100\n",
      "  Loss: 7.534E-01\n",
      "  Accuracy: 0.796\n",
      "  Accuracy per class: 0.807, 0.768, 0.853, 0.805, 0.767, 0.853, 0.809, 0.747, 0.647, 0.834\n",
      "Multibach  87 of 100 with ending batch 964 of 964 in epoch  87 of 100\n",
      "  Loss: 7.531E-01\n",
      "  Accuracy: 0.795\n",
      "  Accuracy per class: 0.806, 0.769, 0.852, 0.804, 0.766, 0.852, 0.809, 0.744, 0.647, 0.832\n",
      "Multibach  88 of 100 with ending batch 964 of 964 in epoch  88 of 100\n",
      "  Loss: 7.523E-01\n",
      "  Accuracy: 0.796\n",
      "  Accuracy per class: 0.807, 0.770, 0.853, 0.805, 0.769, 0.853, 0.809, 0.747, 0.645, 0.834\n",
      "Multibach  89 of 100 with ending batch 964 of 964 in epoch  89 of 100\n",
      "  Loss: 7.521E-01\n",
      "  Accuracy: 0.796\n",
      "  Accuracy per class: 0.806, 0.769, 0.855, 0.806, 0.768, 0.853, 0.810, 0.748, 0.643, 0.834\n",
      "Multibach  90 of 100 with ending batch 964 of 964 in epoch  90 of 100\n",
      "  Loss: 7.515E-01\n",
      "  Accuracy: 0.796\n",
      "  Accuracy per class: 0.807, 0.769, 0.853, 0.803, 0.770, 0.853, 0.811, 0.750, 0.645, 0.832\n",
      "Multibach  91 of 100 with ending batch 964 of 964 in epoch  91 of 100\n",
      "  Loss: 7.511E-01\n",
      "  Accuracy: 0.796\n",
      "  Accuracy per class: 0.809, 0.770, 0.853, 0.804, 0.767, 0.853, 0.810, 0.747, 0.645, 0.834\n",
      "Multibach  92 of 100 with ending batch 964 of 964 in epoch  92 of 100\n",
      "  Loss: 7.507E-01\n",
      "  Accuracy: 0.796\n",
      "  Accuracy per class: 0.806, 0.769, 0.854, 0.806, 0.768, 0.853, 0.809, 0.749, 0.646, 0.835\n",
      "Multibach  93 of 100 with ending batch 964 of 964 in epoch  93 of 100\n",
      "  Loss: 7.504E-01\n",
      "  Accuracy: 0.797\n",
      "  Accuracy per class: 0.808, 0.770, 0.855, 0.804, 0.768, 0.852, 0.810, 0.746, 0.647, 0.834\n",
      "Multibach  94 of 100 with ending batch 964 of 964 in epoch  94 of 100\n",
      "  Loss: 7.497E-01\n",
      "  Accuracy: 0.797\n",
      "  Accuracy per class: 0.807, 0.770, 0.854, 0.806, 0.770, 0.854, 0.810, 0.749, 0.648, 0.835\n",
      "Multibach  95 of 100 with ending batch 964 of 964 in epoch  95 of 100\n",
      "  Loss: 7.496E-01\n",
      "  Accuracy: 0.796\n",
      "  Accuracy per class: 0.807, 0.771, 0.855, 0.804, 0.769, 0.853, 0.810, 0.746, 0.645, 0.834\n",
      "Multibach  96 of 100 with ending batch 964 of 964 in epoch  96 of 100\n",
      "  Loss: 7.492E-01\n",
      "  Accuracy: 0.797\n",
      "  Accuracy per class: 0.807, 0.771, 0.854, 0.807, 0.769, 0.854, 0.809, 0.747, 0.646, 0.834\n",
      "Multibach  97 of 100 with ending batch 964 of 964 in epoch  97 of 100\n",
      "  Loss: 7.486E-01\n",
      "  Accuracy: 0.797\n",
      "  Accuracy per class: 0.809, 0.771, 0.854, 0.805, 0.770, 0.853, 0.810, 0.750, 0.646, 0.834\n",
      "Multibach  98 of 100 with ending batch 964 of 964 in epoch  98 of 100\n",
      "  Loss: 7.482E-01\n",
      "  Accuracy: 0.797\n",
      "  Accuracy per class: 0.809, 0.767, 0.855, 0.806, 0.771, 0.854, 0.810, 0.748, 0.645, 0.834\n",
      "Multibach  99 of 100 with ending batch 964 of 964 in epoch  99 of 100\n",
      "  Loss: 7.479E-01\n",
      "  Accuracy: 0.797\n",
      "  Accuracy per class: 0.807, 0.770, 0.854, 0.806, 0.770, 0.854, 0.811, 0.750, 0.647, 0.835\n",
      "Multibach 100 of 100 with ending batch 964 of 964 in epoch 100 of 100\n",
      "  Loss: 7.477E-01\n",
      "  Accuracy: 0.797\n",
      "  Accuracy per class: 0.808, 0.771, 0.856, 0.807, 0.767, 0.853, 0.810, 0.748, 0.648, 0.834\n",
      "\n",
      "Train logistic regression model with stochastic gradient descent using tensorflow\n",
      "Time ellapsed: 841.965552 seconds\n"
     ]
    }
   ],
   "source": [
    "## Run session to train logistic regression model with stochastic gradient descent in tensorflow\n",
    "\n",
    "ndata = train_dataset.shape[0]\n",
    "batchsize = 157 # Stochastic gradient descent is run since batchsize < ndata\n",
    "\n",
    "# Set up dictionary feed\n",
    "feed = {build['X']: train_dataset[0:ndata, :], build['y']: onehot_train_labels[0:ndata]}\n",
    "\n",
    "nepochs = 100 # Go through the training set 100 times\n",
    "nbatches = ndata//batchsize # Calculate number of batches (per epoch)\n",
    "multibatchsize = nbatches*batchsize # Stored monitored output every epoch\n",
    "\n",
    "# Initialize session\n",
    "session = tf.Session(graph=build['graph'])\n",
    "\n",
    "# Initialize saver\n",
    "saver = tf.train.Saver(max_to_keep=5)\n",
    "\n",
    "with session.as_default():\n",
    "    # Initialize saver\n",
    "    saver = tf.train.Saver(max_to_keep=5)\n",
    "    \n",
    "    # Initialize variables\n",
    "    session.run(tf.global_variables_initializer())\n",
    "    \n",
    "    start_time = time.process_time()\n",
    "    train_output = train_classifier(\n",
    "        session, build, feed, ndata, batchsize, nclasses, nepochs,\n",
    "        saver=saver, save=True, monitor=monitor, board=board, multibatchsize=multibatchsize,\n",
    "        permute=True, # Train set is permuted across epochs\n",
    "        sessiondir=os.path.join('log', 'session', 'logreg_sgd'),\n",
    "        boarddir=os.path.join('log', 'board', 'logreg_sgd'),\n",
    "        verbose=True\n",
    "    )\n",
    "    end_time = time.process_time()\n",
    "    tf_logreg_sgd_time = end_time-start_time\n",
    "\n",
    "print('\\nTrain logistic regression model with stochastic gradient descent using tensorflow')\n",
    "print('Time ellapsed: %f seconds' % tf_logreg_sgd_time)"
   ]
  },
  {
   "cell_type": "code",
   "execution_count": 46,
   "metadata": {},
   "outputs": [
    {
     "data": {
      "image/png": "[encoded data removed]",
      "text/plain": [
       "<Figure size 432x288 with 1 Axes>"
      ]
     },
     "metadata": {},
     "output_type": "display_data"
    }
   ],
   "source": [
    "## Plot loss for logistic regression on train set with stochastic gradient descent in tensorflow\n",
    "\n",
    "plot_loss(train_output['loss'], marker='o')"
   ]
  },
  {
   "cell_type": "code",
   "execution_count": 47,
   "metadata": {},
   "outputs": [
    {
     "data": {
      "image/png": "[encoded data removed]",
      "text/plain": [
       "<Figure size 432x288 with 1 Axes>"
      ]
     },
     "metadata": {},
     "output_type": "display_data"
    }
   ],
   "source": [
    "## Plot accuracy for logistic regression on train set with stochastic gradient descent in tensorflow\n",
    "\n",
    "plot_accuracy(train_output['accuracy'], marker='o')"
   ]
  },
  {
   "cell_type": "code",
   "execution_count": 48,
   "metadata": {},
   "outputs": [
    {
     "data": {
      "text/plain": [
       "array([1585590, 1471691, 1712394, 1438690, 1648092, 1643494, 1750187,\n",
       "       1120588, 1107395, 1656679])"
      ]
     },
     "execution_count": 48,
     "metadata": {},
     "output_type": "execute_result"
    }
   ],
   "source": [
    "## Display number of samples per class in train set for logistic regression with stochastic gradient descent in tensorflow\n",
    "\n",
    "train_tf_logreg_sgd_element_count_per_class = np.sum(train_output['nlabels_per_class'], axis=0)\n",
    "\n",
    "train_tf_logreg_sgd_element_count_per_class"
   ]
  },
  {
   "cell_type": "code",
   "execution_count": 49,
   "metadata": {},
   "outputs": [
    {
     "data": {
      "text/plain": [
       "array([1250741, 1099380, 1433220, 1127202, 1233647, 1368623, 1384880,\n",
       "        805009,  695401, 1353471])"
      ]
     },
     "execution_count": 49,
     "metadata": {},
     "output_type": "execute_result"
    }
   ],
   "source": [
    "## Count correct predictions per class in train set for logistic regression with stochastic gradient descent in TensorFlow\n",
    "\n",
    "train_tf_logreg_sgd_pred_count_per_class = np.sum(train_output['npredictions_per_class'], axis=0)\n",
    "\n",
    "train_tf_logreg_sgd_pred_count_per_class"
   ]
  },
  {
   "cell_type": "code",
   "execution_count": 50,
   "metadata": {},
   "outputs": [
    {
     "data": {
      "text/plain": [
       "array([78.88, 74.7 , 83.7 , 78.35, 74.85, 83.28, 79.13, 71.84, 62.8 ,\n",
       "       81.7 ])"
      ]
     },
     "execution_count": 50,
     "metadata": {},
     "output_type": "execute_result"
    }
   ],
   "source": [
    "## Compute prediction accuracy per class in train set for logistic regression with stochastic gradient descent in TensorFlow\n",
    "\n",
    "train_tf_logreg_sgd_pred_score_per_class = np.round(\n",
    "    100*train_tf_logreg_sgd_pred_count_per_class/train_tf_logreg_sgd_element_count_per_class, 2\n",
    ")\n",
    "\n",
    "train_tf_logreg_sgd_pred_score_per_class"
   ]
  },
  {
   "cell_type": "code",
   "execution_count": 51,
   "metadata": {},
   "outputs": [
    {
     "name": "stdout",
     "output_type": "stream",
     "text": [
      "INFO:tensorflow:Restoring parameters from log/session/logreg_sgd\n",
      "Evaluating model...\n",
      "  Loss: 4.413E-01\n",
      "  Accuracy: 0.882\n",
      "  Accuracy per class: 0.887, 0.854, 0.928, 0.922, 0.855, 0.925, 0.876, 0.858, 0.750, 0.918\n",
      "Model evaluation completed\n",
      "\n",
      "Evaluate logistic regression model (trained with stochastic gradient descent using tensorflow) on test set\n"
     ]
    }
   ],
   "source": [
    "## Run session to evaluate logistic regression model (trained with stochastic gradient descent in tensorflow) on test set\n",
    "\n",
    "batchsize = test_dataset.shape[0]\n",
    "\n",
    "# Set up dictionary feed\n",
    "feed = {build['X']: test_dataset, build['y']: onehot_test_labels}\n",
    "\n",
    "test_output = evaluate_classifier(\n",
    "    session, saver, build, feed, batchsize, nclasses,\n",
    "    monitor=monitor,\n",
    "    sessiondir=os.path.join('log', 'session', 'logreg_sgd'),\n",
    "    verbose=True\n",
    ")\n",
    "\n",
    "print('\\nEvaluate logistic regression model (trained with stochastic gradient descent using tensorflow) on test set')"
   ]
  },
  {
   "cell_type": "code",
   "execution_count": 52,
   "metadata": {},
   "outputs": [
    {
     "data": {
      "text/plain": [
       "array([961, 892, 966, 898, 977, 964, 982, 706, 687, 973])"
      ]
     },
     "execution_count": 52,
     "metadata": {},
     "output_type": "execute_result"
    }
   ],
   "source": [
    "## Display number of samples per class in test set for logistic regression with stochastic gradient descent in tensorflow\n",
    "\n",
    "test_tf_logreg_sgd_element_count_per_class = test_output['nlabels_per_class']\n",
    "\n",
    "test_tf_logreg_sgd_element_count_per_class"
   ]
  },
  {
   "cell_type": "code",
   "execution_count": 53,
   "metadata": {},
   "outputs": [
    {
     "data": {
      "text/plain": [
       "array([852, 762, 896, 828, 835, 892, 860, 606, 515, 893])"
      ]
     },
     "execution_count": 53,
     "metadata": {},
     "output_type": "execute_result"
    }
   ],
   "source": [
    "## Count correct predictions per class in test set for logistic regression with stochastic gradient descent in tensorflow\n",
    "\n",
    "test_tf_logreg_sgd_pred_count_per_class = test_output['npredictions_per_class']\n",
    "\n",
    "test_tf_logreg_sgd_pred_count_per_class"
   ]
  },
  {
   "cell_type": "code",
   "execution_count": 54,
   "metadata": {},
   "outputs": [
    {
     "data": {
      "text/plain": [
       "array([88.66, 85.43, 92.75, 92.2 , 85.47, 92.53, 87.58, 85.84, 74.96,\n",
       "       91.78])"
      ]
     },
     "execution_count": 54,
     "metadata": {},
     "output_type": "execute_result"
    }
   ],
   "source": [
    "## Compute prediction accuracy per class in test set for logistic regression with stochastic gradient descent in fensorflow\n",
    "\n",
    "test_tf_logreg_sgd_pred_score_per_class = np.round(100*test_output['accuracy_per_class'], 2)\n",
    "\n",
    "test_tf_logreg_sgd_pred_score_per_class"
   ]
  },
  {
   "cell_type": "code",
   "execution_count": 55,
   "metadata": {},
   "outputs": [
    {
     "data": {
      "image/png": "[encoded data removed]",
      "text/plain": [
       "<Figure size 432x288 with 1 Axes>"
      ]
     },
     "metadata": {},
     "output_type": "display_data"
    }
   ],
   "source": [
    "## Plot prediction accuracy per class in train and test set for logistic regression with stochastic gradient descent in tensorflow\n",
    "\n",
    "plot_prediction_accuracy_per_class(\n",
    "    [train_tf_logreg_sgd_pred_score_per_class, test_tf_logreg_sgd_pred_score_per_class], nclasses, \n",
    "    ('green', 'red'), ('Train set', 'Test set'), string.ascii_uppercase[:nclasses]\n",
    ")"
   ]
  },
  {
   "cell_type": "markdown",
   "metadata": {},
   "source": [
    "### Neural network with one hidden layer using tensorflow"
   ]
  },
  {
   "cell_type": "markdown",
   "metadata": {},
   "source": [
    "In comparison to logistic regression, one linear fully connected layer and one activation layer are added before the linear fully connected layer already existent in the linear regression model.\n",
    "\n",
    "The activation layer adds non-linearity to the classifier. Notice how such non-linearity increases the prediction accuracy in comparison to linear regression."
   ]
  },
  {
   "cell_type": "code",
   "execution_count": 56,
   "metadata": {},
   "outputs": [],
   "source": [
    "## Function for building a logistic regression model with one hidden layer in tensorflow\n",
    "\n",
    "def build_logreg_model_with_hidden_layer(nw, nclasses, initw01, initb01, initw02, initb02, activation='relu', board=()):\n",
    "    graph = tf.get_default_graph()\n",
    "    \n",
    "    with graph.as_default():\n",
    "        with tf.name_scope('data'): # Input layer\n",
    "            X = tf.placeholder(tf.float32, [None, nw]) # mnist data image of shape 28*28=784\n",
    "            y = tf.placeholder(tf.float32, [None, nclasses]) # 0-9 digits recognition => 10 classes\n",
    "        \n",
    "        with tf.name_scope('fc_layer_01'): # Linear fully connected layer\n",
    "            W01 = tf.Variable(initw01)\n",
    "            b01 = tf.Variable(initb01)\n",
    "            \n",
    "            fc_layer_01 = tf.matmul(X, W01)+b01\n",
    "        \n",
    "        with tf.name_scope('act_layer_02'): # Activation layer\n",
    "            if activation == 'relu':\n",
    "                act_layer_02 = tf.nn.relu(fc_layer_01)\n",
    "            elif activation == 'sigmoid':\n",
    "                act_layer_02 = tf.sigmoid(fc_layer_01)\n",
    "            elif activation == 'tanh':\n",
    "                act_layer_02 = tf.tanh(fc_layer_01)\n",
    "            else:\n",
    "                raise ValueError('Wrong value passed to activation input argument')\n",
    "\n",
    "        with tf.name_scope('outlayer'): # Linear fully connected layer\n",
    "            W02 = tf.Variable(initw02)\n",
    "            b02 = tf.Variable(initb02)\n",
    "        \n",
    "            outlayer = tf.matmul(act_layer_02, W02)+b02\n",
    "\n",
    "        if 'histogram' in board:\n",
    "            with tf.name_scope('summaries') as summaries_scope:\n",
    "                tf.summary.histogram('weights01', W01)\n",
    "                tf.summary.histogram('bias01', b01)\n",
    "                tf.summary.histogram('weights02', W02)\n",
    "                tf.summary.histogram('bias02', b02)\n",
    "            \n",
    "    build = {'graph': graph, 'X': X, 'y': y, 'outlayer': outlayer}\n",
    "    \n",
    "    if 'histogram' in board:\n",
    "        build['summaries_scope'] = summaries_scope\n",
    "    \n",
    "    return build"
   ]
  },
  {
   "cell_type": "code",
   "execution_count": 57,
   "metadata": {},
   "outputs": [],
   "source": [
    "## Reset default graph\n",
    "\n",
    "tf.reset_default_graph()"
   ]
  },
  {
   "cell_type": "code",
   "execution_count": 58,
   "metadata": {},
   "outputs": [],
   "source": [
    "## Build graph for logistic regression with one hidden layer on train set using tensorflow\n",
    "\n",
    "ninterunits = 1024\n",
    "\n",
    "# Initialize logistic regression parameters\n",
    "initw01 = tf.truncated_normal([npixels, ninterunits])\n",
    "initb01 = tf.zeros([ninterunits])\n",
    "initw02 = tf.truncated_normal([ninterunits, nclasses])\n",
    "initb02 = tf.zeros([nclasses])\n",
    "\n",
    "# Specify what will be monitored and what will be stored in tensorboard\n",
    "monitor = ('loss', 'accuracy', 'accuracy_per_class') # To select a single summary, say 'accuracy', set monitor = ('accuracy',)\n",
    "board = ('loss', 'accuracy', 'histogram')\n",
    "\n",
    "# Build graph\n",
    "build = build_logreg_model_with_hidden_layer(npixels, nclasses, initw01, initb01, initw02, initb02, board=board)\n",
    "build_classifier_graph(build, tf.train.GradientDescentOptimizer(0.1), activation='softmax_with_logits', monitor=monitor, board=board)"
   ]
  },
  {
   "cell_type": "code",
   "execution_count": 59,
   "metadata": {},
   "outputs": [
    {
     "name": "stdout",
     "output_type": "stream",
     "text": [
      "Multibach  1 of 50 with ending batch 964 of 964 in epoch  1 of 50\n",
      "  Loss: 2.975E+01\n",
      "  Accuracy: 0.750\n",
      "  Accuracy per class: 0.772, 0.713, 0.795, 0.744, 0.739, 0.803, 0.761, 0.694, 0.618, 0.791\n",
      "Multibach  2 of 50 with ending batch 964 of 964 in epoch  2 of 50\n",
      "  Loss: 1.165E+01\n",
      "  Accuracy: 0.798\n",
      "  Accuracy per class: 0.816, 0.774, 0.828, 0.797, 0.799, 0.841, 0.803, 0.754, 0.677, 0.832\n",
      "Multibach  3 of 50 with ending batch 964 of 964 in epoch  3 of 50\n",
      "  Loss: 7.813E+00\n",
      "  Accuracy: 0.811\n",
      "  Accuracy per class: 0.827, 0.789, 0.843, 0.809, 0.813, 0.855, 0.821, 0.773, 0.686, 0.839\n",
      "Multibach  4 of 50 with ending batch 964 of 964 in epoch  4 of 50\n",
      "  Loss: 5.941E+00\n",
      "  Accuracy: 0.819\n",
      "  Accuracy per class: 0.835, 0.799, 0.847, 0.819, 0.818, 0.858, 0.826, 0.783, 0.704, 0.849\n",
      "Multibach  5 of 50 with ending batch 964 of 964 in epoch  5 of 50\n",
      "  Loss: 4.995E+00\n",
      "  Accuracy: 0.822\n",
      "  Accuracy per class: 0.838, 0.800, 0.851, 0.820, 0.823, 0.862, 0.829, 0.787, 0.709, 0.852\n",
      "Multibach  6 of 50 with ending batch 964 of 964 in epoch  6 of 50\n",
      "  Loss: 4.305E+00\n",
      "  Accuracy: 0.826\n",
      "  Accuracy per class: 0.840, 0.808, 0.854, 0.825, 0.828, 0.868, 0.831, 0.796, 0.707, 0.853\n",
      "Multibach  7 of 50 with ending batch 964 of 964 in epoch  7 of 50\n",
      "  Loss: 3.724E+00\n",
      "  Accuracy: 0.829\n",
      "  Accuracy per class: 0.844, 0.811, 0.854, 0.829, 0.831, 0.869, 0.835, 0.797, 0.718, 0.858\n",
      "Multibach  8 of 50 with ending batch 964 of 964 in epoch  8 of 50\n",
      "  Loss: 3.418E+00\n",
      "  Accuracy: 0.831\n",
      "  Accuracy per class: 0.845, 0.813, 0.860, 0.834, 0.831, 0.867, 0.836, 0.799, 0.719, 0.857\n",
      "Multibach  9 of 50 with ending batch 964 of 964 in epoch  9 of 50\n",
      "  Loss: 3.070E+00\n",
      "  Accuracy: 0.834\n",
      "  Accuracy per class: 0.848, 0.816, 0.857, 0.837, 0.837, 0.872, 0.839, 0.804, 0.724, 0.861\n",
      "Multibach 10 of 50 with ending batch 964 of 964 in epoch 10 of 50\n",
      "  Loss: 2.847E+00\n",
      "  Accuracy: 0.838\n",
      "  Accuracy per class: 0.851, 0.822, 0.864, 0.838, 0.835, 0.873, 0.844, 0.803, 0.735, 0.862\n",
      "Multibach 11 of 50 with ending batch 964 of 964 in epoch 11 of 50\n",
      "  Loss: 2.743E+00\n",
      "  Accuracy: 0.838\n",
      "  Accuracy per class: 0.851, 0.825, 0.862, 0.844, 0.837, 0.873, 0.842, 0.807, 0.731, 0.862\n",
      "Multibach 12 of 50 with ending batch 964 of 964 in epoch 12 of 50\n",
      "  Loss: 2.519E+00\n",
      "  Accuracy: 0.841\n",
      "  Accuracy per class: 0.854, 0.825, 0.867, 0.843, 0.843, 0.874, 0.845, 0.808, 0.736, 0.866\n",
      "Multibach 13 of 50 with ending batch 964 of 964 in epoch 13 of 50\n",
      "  Loss: 2.311E+00\n",
      "  Accuracy: 0.844\n",
      "  Accuracy per class: 0.858, 0.834, 0.866, 0.845, 0.845, 0.877, 0.848, 0.817, 0.742, 0.867\n",
      "Multibach 14 of 50 with ending batch 964 of 964 in epoch 14 of 50\n",
      "  Loss: 2.269E+00\n",
      "  Accuracy: 0.844\n",
      "  Accuracy per class: 0.856, 0.834, 0.864, 0.844, 0.846, 0.877, 0.850, 0.816, 0.743, 0.868\n",
      "Multibach 15 of 50 with ending batch 964 of 964 in epoch 15 of 50\n",
      "  Loss: 2.129E+00\n",
      "  Accuracy: 0.848\n",
      "  Accuracy per class: 0.859, 0.836, 0.870, 0.850, 0.849, 0.879, 0.854, 0.819, 0.750, 0.871\n",
      "Multibach 16 of 50 with ending batch 964 of 964 in epoch 16 of 50\n",
      "  Loss: 2.008E+00\n",
      "  Accuracy: 0.851\n",
      "  Accuracy per class: 0.861, 0.839, 0.875, 0.854, 0.854, 0.882, 0.855, 0.821, 0.750, 0.875\n",
      "Multibach 17 of 50 with ending batch 964 of 964 in epoch 17 of 50\n",
      "  Loss: 1.902E+00\n",
      "  Accuracy: 0.853\n",
      "  Accuracy per class: 0.868, 0.845, 0.871, 0.855, 0.853, 0.883, 0.856, 0.828, 0.756, 0.873\n",
      "Multibach 18 of 50 with ending batch 964 of 964 in epoch 18 of 50\n",
      "  Loss: 1.829E+00\n",
      "  Accuracy: 0.855\n",
      "  Accuracy per class: 0.865, 0.845, 0.873, 0.855, 0.857, 0.887, 0.857, 0.834, 0.757, 0.876\n",
      "Multibach 19 of 50 with ending batch 964 of 964 in epoch 19 of 50\n",
      "  Loss: 1.729E+00\n",
      "  Accuracy: 0.857\n",
      "  Accuracy per class: 0.870, 0.848, 0.875, 0.859, 0.857, 0.888, 0.861, 0.830, 0.767, 0.877\n",
      "Multibach 20 of 50 with ending batch 964 of 964 in epoch 20 of 50\n",
      "  Loss: 1.704E+00\n",
      "  Accuracy: 0.859\n",
      "  Accuracy per class: 0.872, 0.846, 0.875, 0.865, 0.861, 0.888, 0.863, 0.833, 0.766, 0.878\n",
      "Multibach 21 of 50 with ending batch 964 of 964 in epoch 21 of 50\n",
      "  Loss: 1.607E+00\n",
      "  Accuracy: 0.863\n",
      "  Accuracy per class: 0.873, 0.853, 0.883, 0.867, 0.863, 0.888, 0.866, 0.839, 0.775, 0.883\n",
      "Multibach 22 of 50 with ending batch 964 of 964 in epoch 22 of 50\n",
      "  Loss: 1.531E+00\n",
      "  Accuracy: 0.864\n",
      "  Accuracy per class: 0.878, 0.855, 0.878, 0.870, 0.863, 0.892, 0.868, 0.841, 0.774, 0.885\n",
      "Multibach 23 of 50 with ending batch 964 of 964 in epoch 23 of 50\n",
      "  Loss: 1.464E+00\n",
      "  Accuracy: 0.867\n",
      "  Accuracy per class: 0.878, 0.857, 0.884, 0.871, 0.866, 0.895, 0.873, 0.846, 0.782, 0.885\n",
      "Multibach 24 of 50 with ending batch 964 of 964 in epoch 24 of 50\n",
      "  Loss: 1.420E+00\n",
      "  Accuracy: 0.869\n",
      "  Accuracy per class: 0.881, 0.861, 0.884, 0.872, 0.869, 0.894, 0.872, 0.847, 0.785, 0.886\n",
      "Multibach 25 of 50 with ending batch 964 of 964 in epoch 25 of 50\n",
      "  Loss: 1.390E+00\n",
      "  Accuracy: 0.871\n",
      "  Accuracy per class: 0.882, 0.862, 0.888, 0.876, 0.873, 0.898, 0.873, 0.849, 0.788, 0.887\n",
      "Multibach 26 of 50 with ending batch 964 of 964 in epoch 26 of 50\n",
      "  Loss: 1.345E+00\n",
      "  Accuracy: 0.873\n",
      "  Accuracy per class: 0.887, 0.865, 0.886, 0.877, 0.873, 0.897, 0.876, 0.851, 0.787, 0.893\n",
      "Multibach 27 of 50 with ending batch 964 of 964 in epoch 27 of 50\n",
      "  Loss: 1.290E+00\n",
      "  Accuracy: 0.874\n",
      "  Accuracy per class: 0.885, 0.868, 0.888, 0.877, 0.875, 0.901, 0.878, 0.854, 0.790, 0.891\n",
      "Multibach 28 of 50 with ending batch 964 of 964 in epoch 28 of 50\n",
      "  Loss: 1.223E+00\n",
      "  Accuracy: 0.878\n",
      "  Accuracy per class: 0.887, 0.873, 0.893, 0.883, 0.878, 0.900, 0.881, 0.857, 0.798, 0.896\n",
      "Multibach 29 of 50 with ending batch 964 of 964 in epoch 29 of 50\n",
      "  Loss: 1.173E+00\n",
      "  Accuracy: 0.881\n",
      "  Accuracy per class: 0.892, 0.875, 0.893, 0.888, 0.880, 0.904, 0.883, 0.861, 0.804, 0.895\n",
      "Multibach 30 of 50 with ending batch 964 of 964 in epoch 30 of 50\n",
      "  Loss: 1.156E+00\n",
      "  Accuracy: 0.882\n",
      "  Accuracy per class: 0.893, 0.876, 0.895, 0.887, 0.881, 0.905, 0.883, 0.866, 0.801, 0.900\n",
      "Multibach 31 of 50 with ending batch 964 of 964 in epoch 31 of 50\n",
      "  Loss: 1.120E+00\n",
      "  Accuracy: 0.883\n",
      "  Accuracy per class: 0.895, 0.879, 0.897, 0.886, 0.883, 0.907, 0.883, 0.865, 0.805, 0.900\n",
      "Multibach 32 of 50 with ending batch 964 of 964 in epoch 32 of 50\n",
      "  Loss: 1.094E+00\n",
      "  Accuracy: 0.884\n",
      "  Accuracy per class: 0.896, 0.877, 0.897, 0.886, 0.884, 0.907, 0.888, 0.869, 0.806, 0.900\n",
      "Multibach 33 of 50 with ending batch 964 of 964 in epoch 33 of 50\n",
      "  Loss: 1.044E+00\n",
      "  Accuracy: 0.888\n",
      "  Accuracy per class: 0.900, 0.881, 0.898, 0.894, 0.887, 0.912, 0.890, 0.872, 0.816, 0.904\n",
      "Multibach 34 of 50 with ending batch 964 of 964 in epoch 34 of 50\n",
      "  Loss: 1.014E+00\n",
      "  Accuracy: 0.890\n",
      "  Accuracy per class: 0.902, 0.883, 0.902, 0.896, 0.888, 0.910, 0.892, 0.874, 0.817, 0.906\n",
      "Multibach 35 of 50 with ending batch 964 of 964 in epoch 35 of 50\n",
      "  Loss: 9.748E-01\n",
      "  Accuracy: 0.892\n",
      "  Accuracy per class: 0.903, 0.889, 0.901, 0.897, 0.891, 0.914, 0.894, 0.876, 0.816, 0.907\n",
      "Multibach 36 of 50 with ending batch 964 of 964 in epoch 36 of 50\n",
      "  Loss: 9.307E-01\n",
      "  Accuracy: 0.894\n",
      "  Accuracy per class: 0.906, 0.890, 0.906, 0.899, 0.892, 0.916, 0.894, 0.876, 0.825, 0.910\n",
      "Multibach 37 of 50 with ending batch 964 of 964 in epoch 37 of 50\n",
      "  Loss: 9.030E-01\n",
      "  Accuracy: 0.895\n",
      "  Accuracy per class: 0.907, 0.891, 0.905, 0.900, 0.894, 0.915, 0.897, 0.882, 0.827, 0.910\n",
      "Multibach 38 of 50 with ending batch 964 of 964 in epoch 38 of 50\n",
      "  Loss: 8.669E-01\n",
      "  Accuracy: 0.898\n",
      "  Accuracy per class: 0.910, 0.897, 0.907, 0.903, 0.898, 0.916, 0.900, 0.885, 0.830, 0.909\n",
      "Multibach 39 of 50 with ending batch 964 of 964 in epoch 39 of 50\n",
      "  Loss: 8.428E-01\n",
      "  Accuracy: 0.901\n",
      "  Accuracy per class: 0.910, 0.899, 0.909, 0.907, 0.901, 0.919, 0.903, 0.889, 0.836, 0.914\n",
      "Multibach 40 of 50 with ending batch 964 of 964 in epoch 40 of 50\n",
      "  Loss: 8.165E-01\n",
      "  Accuracy: 0.902\n",
      "  Accuracy per class: 0.915, 0.898, 0.910, 0.907, 0.902, 0.921, 0.903, 0.889, 0.833, 0.915\n",
      "Multibach 41 of 50 with ending batch 964 of 964 in epoch 41 of 50\n",
      "  Loss: 7.839E-01\n",
      "  Accuracy: 0.905\n",
      "  Accuracy per class: 0.916, 0.901, 0.914, 0.912, 0.903, 0.924, 0.906, 0.895, 0.839, 0.917\n",
      "Multibach 42 of 50 with ending batch 964 of 964 in epoch 42 of 50\n",
      "  Loss: 7.568E-01\n",
      "  Accuracy: 0.906\n",
      "  Accuracy per class: 0.917, 0.904, 0.914, 0.909, 0.907, 0.924, 0.906, 0.894, 0.844, 0.919\n",
      "Multibach 43 of 50 with ending batch 964 of 964 in epoch 43 of 50\n",
      "  Loss: 7.296E-01\n",
      "  Accuracy: 0.909\n",
      "  Accuracy per class: 0.921, 0.905, 0.917, 0.914, 0.909, 0.926, 0.910, 0.898, 0.840, 0.921\n",
      "Multibach 44 of 50 with ending batch 964 of 964 in epoch 44 of 50\n",
      "  Loss: 6.944E-01\n",
      "  Accuracy: 0.911\n",
      "  Accuracy per class: 0.921, 0.909, 0.916, 0.916, 0.909, 0.926, 0.912, 0.903, 0.852, 0.924\n",
      "Multibach 45 of 50 with ending batch 964 of 964 in epoch 45 of 50\n",
      "  Loss: 6.760E-01\n",
      "  Accuracy: 0.913\n",
      "  Accuracy per class: 0.925, 0.912, 0.920, 0.920, 0.912, 0.930, 0.916, 0.904, 0.848, 0.923\n",
      "Multibach 46 of 50 with ending batch 964 of 964 in epoch 46 of 50\n",
      "  Loss: 6.506E-01\n",
      "  Accuracy: 0.915\n",
      "  Accuracy per class: 0.924, 0.913, 0.921, 0.919, 0.913, 0.931, 0.918, 0.905, 0.853, 0.928\n",
      "Multibach 47 of 50 with ending batch 964 of 964 in epoch 47 of 50\n",
      "  Loss: 6.191E-01\n",
      "  Accuracy: 0.917\n",
      "  Accuracy per class: 0.928, 0.915, 0.922, 0.921, 0.916, 0.933, 0.919, 0.910, 0.859, 0.928\n",
      "Multibach 48 of 50 with ending batch 964 of 964 in epoch 48 of 50\n",
      "  Loss: 5.928E-01\n",
      "  Accuracy: 0.920\n",
      "  Accuracy per class: 0.931, 0.920, 0.925, 0.923, 0.917, 0.936, 0.922, 0.913, 0.863, 0.931\n",
      "Multibach 49 of 50 with ending batch 964 of 964 in epoch 49 of 50\n",
      "  Loss: 5.734E-01\n",
      "  Accuracy: 0.921\n",
      "  Accuracy per class: 0.931, 0.921, 0.927, 0.926, 0.921, 0.935, 0.922, 0.913, 0.864, 0.931\n",
      "Multibach 50 of 50 with ending batch 964 of 964 in epoch 50 of 50\n",
      "  Loss: 5.549E-01\n",
      "  Accuracy: 0.923\n",
      "  Accuracy per class: 0.934, 0.920, 0.927, 0.927, 0.923, 0.938, 0.923, 0.914, 0.867, 0.933\n",
      "\n",
      "Train logistic regression model with stochastic gradient descent using tensorflow\n",
      "Time ellapsed: 3656.445488 seconds\n"
     ]
    }
   ],
   "source": [
    "## Run session to train logistic regression with one hidden layer in tensorflow\n",
    "\n",
    "ndata = train_dataset.shape[0]\n",
    "batchsize = 157 # Stochastic gradient descent is run since batchsize < ndata\n",
    "\n",
    "# Set up dictionary feed\n",
    "feed = {build['X']: train_dataset[0:ndata, :], build['y']: onehot_train_labels[0:ndata]}\n",
    "\n",
    "nepochs = 50 # Go through the training set 50 times\n",
    "nbatches = ndata//batchsize # Calculate number of batches (per epoch)\n",
    "multibatchsize = nbatches*batchsize # Stored monitored output every epoch\n",
    "\n",
    "# Initialize session\n",
    "session = tf.Session(graph=build['graph'])\n",
    "\n",
    "# Initialize saver\n",
    "saver = tf.train.Saver(max_to_keep=5)\n",
    "\n",
    "with session.as_default():\n",
    "    # Initialize saver\n",
    "    saver = tf.train.Saver(max_to_keep=5)\n",
    "    \n",
    "    # Initialize variables\n",
    "    session.run(tf.global_variables_initializer())\n",
    "    \n",
    "    start_time = time.process_time()\n",
    "    train_output = train_classifier(\n",
    "        session, build, feed, ndata, batchsize, nclasses, nepochs,\n",
    "        saver=saver, save=True, monitor=monitor, board=board, multibatchsize=multibatchsize,\n",
    "        permute=True, # Train set is permuted across epochs\n",
    "        sessiondir=os.path.join('log', 'session', 'logreg_with_hidden_layer_sgd'),\n",
    "        boarddir=os.path.join('log', 'board', 'logreg_with_hidden_layer_sgd'),\n",
    "        verbose=True\n",
    "    )\n",
    "    end_time = time.process_time()\n",
    "    tf_logreg_sgd_time = end_time-start_time\n",
    "\n",
    "print('\\nTrain logistic regression model with stochastic gradient descent using tensorflow')\n",
    "print('Time ellapsed: %f seconds' % tf_logreg_sgd_time)"
   ]
  },
  {
   "cell_type": "code",
   "execution_count": 60,
   "metadata": {},
   "outputs": [
    {
     "data": {
      "image/png": "[encoded data removed]",
      "text/plain": [
       "<Figure size 432x288 with 1 Axes>"
      ]
     },
     "metadata": {},
     "output_type": "display_data"
    }
   ],
   "source": [
    "## Plot loss for logistic regression with one hidden layer on train set in tensorflow\n",
    "\n",
    "plot_loss(train_output['loss'], marker='o')"
   ]
  },
  {
   "cell_type": "code",
   "execution_count": 61,
   "metadata": {},
   "outputs": [
    {
     "data": {
      "image/png": "[encoded data removed]",
      "text/plain": [
       "<Figure size 432x288 with 1 Axes>"
      ]
     },
     "metadata": {},
     "output_type": "display_data"
    }
   ],
   "source": [
    "## Plot accuracy for logistic regression with one hidden layer on train set in tensorflow\n",
    "\n",
    "plot_accuracy(train_output['accuracy'], marker='o')"
   ]
  },
  {
   "cell_type": "code",
   "execution_count": 62,
   "metadata": {},
   "outputs": [
    {
     "data": {
      "text/plain": [
       "array([792795, 735844, 856194, 719345, 824047, 821743, 875093, 560296,\n",
       "       553698, 828345])"
      ]
     },
     "execution_count": 62,
     "metadata": {},
     "output_type": "execute_result"
    }
   ],
   "source": [
    "## Display number of samples per class in train set for logistic regression with one hidden layer in tensorflow\n",
    "\n",
    "train_tf_logreg_with_hidden_layer_sgd_element_count_per_class = np.sum(train_output['nlabels_per_class'], axis=0)\n",
    "\n",
    "train_tf_logreg_with_hidden_layer_sgd_element_count_per_class"
   ]
  },
  {
   "cell_type": "code",
   "execution_count": 63,
   "metadata": {},
   "outputs": [
    {
     "data": {
      "text/plain": [
       "array([698581, 632367, 757884, 627189, 715710, 736120, 763205, 474439,\n",
       "       433185, 735530])"
      ]
     },
     "execution_count": 63,
     "metadata": {},
     "output_type": "execute_result"
    }
   ],
   "source": [
    "## Count correct predictions per class in train set for logistic regression with one hidden layer in tensorflow\n",
    "\n",
    "train_tf_logreg_with_hidden_layer_sgd_pred_count_per_class = np.sum(train_output['npredictions_per_class'], axis=0)\n",
    "\n",
    "train_tf_logreg_with_hidden_layer_sgd_pred_count_per_class"
   ]
  },
  {
   "cell_type": "code",
   "execution_count": 64,
   "metadata": {},
   "outputs": [
    {
     "data": {
      "text/plain": [
       "array([88.12, 85.94, 88.52, 87.19, 86.85, 89.58, 87.21, 84.68, 78.23,\n",
       "       88.8 ])"
      ]
     },
     "execution_count": 64,
     "metadata": {},
     "output_type": "execute_result"
    }
   ],
   "source": [
    "## Compute prediction accuracy per class in train set for logistic regression with one hidden layer in tensorflow\n",
    "\n",
    "train_tf_logreg_with_hidden_layer_sgd_pred_score_per_class = np.round(\n",
    "    100*train_tf_logreg_with_hidden_layer_sgd_pred_count_per_class/train_tf_logreg_with_hidden_layer_sgd_element_count_per_class, 2\n",
    ")\n",
    "\n",
    "train_tf_logreg_with_hidden_layer_sgd_pred_score_per_class"
   ]
  },
  {
   "cell_type": "code",
   "execution_count": 65,
   "metadata": {},
   "outputs": [
    {
     "name": "stdout",
     "output_type": "stream",
     "text": [
      "INFO:tensorflow:Restoring parameters from log/session/logreg_with_hidden_layer_sgd\n",
      "Evaluating model...\n",
      "  Loss: 1.360E+00\n",
      "  Accuracy: 0.910\n",
      "  Accuracy per class: 0.917, 0.895, 0.901, 0.932, 0.902, 0.936, 0.935, 0.909, 0.822, 0.926\n",
      "Model evaluation completed\n",
      "\n",
      "Evaluate logistic regression with one hidden layer on test set\n"
     ]
    }
   ],
   "source": [
    "## Run session to evaluate logistic regression with one hidden layer on test set in tensorflow\n",
    "\n",
    "batchsize = test_dataset.shape[0]\n",
    "\n",
    "# Set up dictionary feed\n",
    "feed = {build['X']: test_dataset, build['y']: onehot_test_labels}\n",
    "\n",
    "test_output = evaluate_classifier(\n",
    "    session, saver, build, feed, batchsize, nclasses,\n",
    "    monitor=monitor,\n",
    "    sessiondir=os.path.join('log', 'session', 'logreg_with_hidden_layer_sgd'),\n",
    "    verbose=True\n",
    ")\n",
    "\n",
    "print('\\nEvaluate logistic regression with one hidden layer on test set')"
   ]
  },
  {
   "cell_type": "code",
   "execution_count": 66,
   "metadata": {},
   "outputs": [
    {
     "data": {
      "text/plain": [
       "array([961, 892, 966, 898, 977, 964, 982, 706, 687, 973])"
      ]
     },
     "execution_count": 66,
     "metadata": {},
     "output_type": "execute_result"
    }
   ],
   "source": [
    "## Display number of samples per class in test set for logistic regression with stochastic gradient descent in tensorflow\n",
    "\n",
    "test_tf_logreg_with_hidden_layer_sgd_element_count_per_class = test_output['nlabels_per_class']\n",
    "\n",
    "test_tf_logreg_with_hidden_layer_sgd_element_count_per_class"
   ]
  },
  {
   "cell_type": "code",
   "execution_count": 67,
   "metadata": {},
   "outputs": [
    {
     "data": {
      "text/plain": [
       "array([881, 798, 870, 837, 881, 902, 918, 642, 565, 901])"
      ]
     },
     "execution_count": 67,
     "metadata": {},
     "output_type": "execute_result"
    }
   ],
   "source": [
    "## Count correct predictions per class in test set for logistic regression with stochastic gradient descent in tensorflow\n",
    "\n",
    "test_tf_logreg_with_hidden_layer_sgd_pred_count_per_class = test_output['npredictions_per_class']\n",
    "\n",
    "test_tf_logreg_with_hidden_layer_sgd_pred_count_per_class"
   ]
  },
  {
   "cell_type": "code",
   "execution_count": 68,
   "metadata": {},
   "outputs": [
    {
     "data": {
      "text/plain": [
       "array([91.68, 89.46, 90.06, 93.21, 90.17, 93.57, 93.48, 90.93, 82.24,\n",
       "       92.6 ])"
      ]
     },
     "execution_count": 68,
     "metadata": {},
     "output_type": "execute_result"
    }
   ],
   "source": [
    "## Compute prediction accuracy per class in test set for logistic regression with stochastic gradient descent in fensorflow\n",
    "\n",
    "test_tf_logreg_with_hidden_layer_sgd_pred_score_per_class = np.round(100*test_output['accuracy_per_class'], 2)\n",
    "\n",
    "test_tf_logreg_with_hidden_layer_sgd_pred_score_per_class"
   ]
  },
  {
   "cell_type": "code",
   "execution_count": 69,
   "metadata": {},
   "outputs": [
    {
     "data": {
      "image/png": "[encoded data removed]",
      "text/plain": [
       "<Figure size 432x288 with 1 Axes>"
      ]
     },
     "metadata": {},
     "output_type": "display_data"
    }
   ],
   "source": [
    "## Plot prediction accuracy per class in train and test set for logistic regression with stochastic gradient descent in tensorflow\n",
    "\n",
    "plot_prediction_accuracy_per_class(\n",
    "    [train_tf_logreg_with_hidden_layer_sgd_pred_score_per_class, test_tf_logreg_with_hidden_layer_sgd_pred_score_per_class], nclasses, \n",
    "    ('green', 'red'), ('Train set', 'Test set'), string.ascii_uppercase[:nclasses]\n",
    ")"
   ]
  }
 ],
 "metadata": {
  "kernelspec": {
   "display_name": "Python 3",
   "language": "python",
   "name": "python3"
  },
  "language_info": {
   "codemirror_mode": {
    "name": "ipython",
    "version": 3
   },
   "file_extension": ".py",
   "mimetype": "text/x-python",
   "name": "python",
   "nbconvert_exporter": "python",
   "pygments_lexer": "ipython3",
   "version": "3.6.5"
  }
 },
 "nbformat": 4,
 "nbformat_minor": 2
}
